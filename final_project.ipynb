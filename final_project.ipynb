{
 "cells": [
  {
   "cell_type": "markdown",
   "metadata": {},
   "source": [
    "# **Used Car Price Prediction**"
   ]
  },
  {
   "cell_type": "markdown",
   "metadata": {},
   "source": [
    "<div style='text-align: center'>\n",
    "    <img src='usedcars.png' alt='usedcars' title='used_cars' width='800' height='500'/>\n",
    "</div>"
   ]
  },
  {
   "cell_type": "markdown",
   "metadata": {},
   "source": [
    "## Background\n",
    "This goal of this project is to use machine learning methods (specifically Classification), to predict the prices of used cars based on location (`city`, `state`) and some properties of the car including the `model`, `make`, `mileage`, and `year of manufacture`."
   ]
  },
  {
   "cell_type": "markdown",
   "metadata": {},
   "source": [
    "## **Import Packages**"
   ]
  },
  {
   "cell_type": "code",
   "execution_count": 26,
   "metadata": {},
   "outputs": [],
   "source": [
    "import numpy as np \n",
    "import pandas as pd \n",
    "import matplotlib.pyplot as plt\n",
    "import seaborn as sns\n",
    "import warnings\n",
    "warnings.filterwarnings(\"ignore\")"
   ]
  },
  {
   "cell_type": "markdown",
   "metadata": {},
   "source": [
    "## **Data Preprocessing**"
   ]
  },
  {
   "cell_type": "code",
   "execution_count": 27,
   "metadata": {},
   "outputs": [
    {
     "data": {
      "text/html": [
       "<div>\n",
       "<style scoped>\n",
       "    .dataframe tbody tr th:only-of-type {\n",
       "        vertical-align: middle;\n",
       "    }\n",
       "\n",
       "    .dataframe tbody tr th {\n",
       "        vertical-align: top;\n",
       "    }\n",
       "\n",
       "    .dataframe thead th {\n",
       "        text-align: right;\n",
       "    }\n",
       "</style>\n",
       "<table border=\"1\" class=\"dataframe\">\n",
       "  <thead>\n",
       "    <tr style=\"text-align: right;\">\n",
       "      <th></th>\n",
       "      <th>Price</th>\n",
       "      <th>Year</th>\n",
       "      <th>Mileage</th>\n",
       "      <th>City</th>\n",
       "      <th>State</th>\n",
       "      <th>Vin</th>\n",
       "      <th>Make</th>\n",
       "      <th>Model</th>\n",
       "    </tr>\n",
       "  </thead>\n",
       "  <tbody>\n",
       "    <tr>\n",
       "      <th>0</th>\n",
       "      <td>8995</td>\n",
       "      <td>2014</td>\n",
       "      <td>35725</td>\n",
       "      <td>El Paso</td>\n",
       "      <td>TX</td>\n",
       "      <td>19VDE2E53EE000083</td>\n",
       "      <td>Acura</td>\n",
       "      <td>ILX6-Speed</td>\n",
       "    </tr>\n",
       "    <tr>\n",
       "      <th>1</th>\n",
       "      <td>10888</td>\n",
       "      <td>2013</td>\n",
       "      <td>19606</td>\n",
       "      <td>Long Island City</td>\n",
       "      <td>NY</td>\n",
       "      <td>19VDE1F52DE012636</td>\n",
       "      <td>Acura</td>\n",
       "      <td>ILX5-Speed</td>\n",
       "    </tr>\n",
       "    <tr>\n",
       "      <th>2</th>\n",
       "      <td>8995</td>\n",
       "      <td>2013</td>\n",
       "      <td>48851</td>\n",
       "      <td>El Paso</td>\n",
       "      <td>TX</td>\n",
       "      <td>19VDE2E52DE000025</td>\n",
       "      <td>Acura</td>\n",
       "      <td>ILX6-Speed</td>\n",
       "    </tr>\n",
       "    <tr>\n",
       "      <th>3</th>\n",
       "      <td>10999</td>\n",
       "      <td>2014</td>\n",
       "      <td>39922</td>\n",
       "      <td>Windsor</td>\n",
       "      <td>CO</td>\n",
       "      <td>19VDE1F71EE003817</td>\n",
       "      <td>Acura</td>\n",
       "      <td>ILX5-Speed</td>\n",
       "    </tr>\n",
       "    <tr>\n",
       "      <th>4</th>\n",
       "      <td>14799</td>\n",
       "      <td>2016</td>\n",
       "      <td>22142</td>\n",
       "      <td>Lindon</td>\n",
       "      <td>UT</td>\n",
       "      <td>19UDE2F32GA001284</td>\n",
       "      <td>Acura</td>\n",
       "      <td>ILXAutomatic</td>\n",
       "    </tr>\n",
       "  </tbody>\n",
       "</table>\n",
       "</div>"
      ],
      "text/plain": [
       "   Price  Year  Mileage              City State                Vin   Make  \\\n",
       "0   8995  2014    35725           El Paso    TX  19VDE2E53EE000083  Acura   \n",
       "1  10888  2013    19606  Long Island City    NY  19VDE1F52DE012636  Acura   \n",
       "2   8995  2013    48851           El Paso    TX  19VDE2E52DE000025  Acura   \n",
       "3  10999  2014    39922           Windsor    CO  19VDE1F71EE003817  Acura   \n",
       "4  14799  2016    22142            Lindon    UT  19UDE2F32GA001284  Acura   \n",
       "\n",
       "          Model  \n",
       "0    ILX6-Speed  \n",
       "1    ILX5-Speed  \n",
       "2    ILX6-Speed  \n",
       "3    ILX5-Speed  \n",
       "4  ILXAutomatic  "
      ]
     },
     "execution_count": 27,
     "metadata": {},
     "output_type": "execute_result"
    }
   ],
   "source": [
    "# import and view dataset\n",
    "df = pd.read_csv('true_car_listings.csv')\n",
    "df.head()"
   ]
  },
  {
   "cell_type": "code",
   "execution_count": 28,
   "metadata": {},
   "outputs": [
    {
     "name": "stdout",
     "output_type": "stream",
     "text": [
      "<class 'pandas.core.frame.DataFrame'>\n",
      "RangeIndex: 852122 entries, 0 to 852121\n",
      "Data columns (total 8 columns):\n",
      " #   Column   Non-Null Count   Dtype \n",
      "---  ------   --------------   ----- \n",
      " 0   Price    852122 non-null  int64 \n",
      " 1   Year     852122 non-null  int64 \n",
      " 2   Mileage  852122 non-null  int64 \n",
      " 3   City     852122 non-null  object\n",
      " 4   State    852122 non-null  object\n",
      " 5   Vin      852122 non-null  object\n",
      " 6   Make     852122 non-null  object\n",
      " 7   Model    852122 non-null  object\n",
      "dtypes: int64(3), object(5)\n",
      "memory usage: 52.0+ MB\n"
     ]
    }
   ],
   "source": [
    "# Check variable types and other info\n",
    "df.info()"
   ]
  },
  {
   "cell_type": "markdown",
   "metadata": {},
   "source": [
    "We have `852,122` listings in the dataset. `Price`, `Year`, and `Mileage` are numeric variables, as they should be. `State`, `VIN`, `Make`, and `Model` have a `dtype` of `object`, as is appropriate. We go ahead to check the unique values of the categorical variables."
   ]
  },
  {
   "cell_type": "code",
   "execution_count": 29,
   "metadata": {},
   "outputs": [
    {
     "data": {
      "text/plain": [
       "Price      0\n",
       "Year       0\n",
       "Mileage    0\n",
       "City       0\n",
       "State      0\n",
       "Vin        0\n",
       "Make       0\n",
       "Model      0\n",
       "dtype: int64"
      ]
     },
     "execution_count": 29,
     "metadata": {},
     "output_type": "execute_result"
    }
   ],
   "source": [
    "# check Missing values\n",
    "df.isnull().sum()"
   ]
  },
  {
   "cell_type": "markdown",
   "metadata": {},
   "source": [
    "Also, there is no missing data for any of the features or for the target variable."
   ]
  },
  {
   "cell_type": "markdown",
   "metadata": {},
   "source": [
    "### **Checking and dealing with duplicates**"
   ]
  },
  {
   "cell_type": "code",
   "execution_count": 30,
   "metadata": {},
   "outputs": [
    {
     "name": "stdout",
     "output_type": "stream",
     "text": [
      "Are there any duplicates? True\n"
     ]
    }
   ],
   "source": [
    "# Check if there are any duplicates\n",
    "duplicates = df.duplicated()\n",
    "\n",
    "any_duplicates = duplicates.any()\n",
    "print(f\"Are there any duplicates? {any_duplicates}\")"
   ]
  },
  {
   "cell_type": "code",
   "execution_count": 31,
   "metadata": {},
   "outputs": [
    {
     "data": {
      "text/plain": [
       "30"
      ]
     },
     "execution_count": 31,
     "metadata": {},
     "output_type": "execute_result"
    }
   ],
   "source": [
    "# Check Duplication\n",
    "df.duplicated().sum()"
   ]
  },
  {
   "cell_type": "code",
   "execution_count": 32,
   "metadata": {},
   "outputs": [
    {
     "data": {
      "text/html": [
       "<div>\n",
       "<style scoped>\n",
       "    .dataframe tbody tr th:only-of-type {\n",
       "        vertical-align: middle;\n",
       "    }\n",
       "\n",
       "    .dataframe tbody tr th {\n",
       "        vertical-align: top;\n",
       "    }\n",
       "\n",
       "    .dataframe thead th {\n",
       "        text-align: right;\n",
       "    }\n",
       "</style>\n",
       "<table border=\"1\" class=\"dataframe\">\n",
       "  <thead>\n",
       "    <tr style=\"text-align: right;\">\n",
       "      <th></th>\n",
       "      <th>Price</th>\n",
       "      <th>Year</th>\n",
       "      <th>Mileage</th>\n",
       "      <th>City</th>\n",
       "      <th>State</th>\n",
       "      <th>Vin</th>\n",
       "      <th>Make</th>\n",
       "      <th>Model</th>\n",
       "    </tr>\n",
       "  </thead>\n",
       "  <tbody>\n",
       "    <tr>\n",
       "      <th>120829</th>\n",
       "      <td>16288</td>\n",
       "      <td>2015</td>\n",
       "      <td>54545</td>\n",
       "      <td>Pensacola</td>\n",
       "      <td>FL</td>\n",
       "      <td>2G1FB1E32F9284364</td>\n",
       "      <td>Chevrolet</td>\n",
       "      <td>CamaroCoupe</td>\n",
       "    </tr>\n",
       "    <tr>\n",
       "      <th>120830</th>\n",
       "      <td>19995</td>\n",
       "      <td>2016</td>\n",
       "      <td>17604</td>\n",
       "      <td>Beaumont</td>\n",
       "      <td>TX</td>\n",
       "      <td>2G11Z5SA9G9130915</td>\n",
       "      <td>Chevrolet</td>\n",
       "      <td>ImpalaLS</td>\n",
       "    </tr>\n",
       "    <tr>\n",
       "      <th>120831</th>\n",
       "      <td>5774</td>\n",
       "      <td>2008</td>\n",
       "      <td>125675</td>\n",
       "      <td>Fort Wayne</td>\n",
       "      <td>IN</td>\n",
       "      <td>2G1WT58K781214125</td>\n",
       "      <td>Chevrolet</td>\n",
       "      <td>Impala4dr</td>\n",
       "    </tr>\n",
       "    <tr>\n",
       "      <th>120832</th>\n",
       "      <td>20990</td>\n",
       "      <td>2017</td>\n",
       "      <td>17219</td>\n",
       "      <td>Marshfield</td>\n",
       "      <td>MO</td>\n",
       "      <td>2G1105S30H9120402</td>\n",
       "      <td>Chevrolet</td>\n",
       "      <td>ImpalaLT</td>\n",
       "    </tr>\n",
       "    <tr>\n",
       "      <th>120833</th>\n",
       "      <td>22573</td>\n",
       "      <td>2016</td>\n",
       "      <td>622</td>\n",
       "      <td>Colorado Springs</td>\n",
       "      <td>CO</td>\n",
       "      <td>1GCNCNEC9GZ402232</td>\n",
       "      <td>Chevrolet</td>\n",
       "      <td>Silverado</td>\n",
       "    </tr>\n",
       "    <tr>\n",
       "      <th>120834</th>\n",
       "      <td>11495</td>\n",
       "      <td>2014</td>\n",
       "      <td>80086</td>\n",
       "      <td>Langhorne</td>\n",
       "      <td>PA</td>\n",
       "      <td>1G1JC6SH8E4194609</td>\n",
       "      <td>Chevrolet</td>\n",
       "      <td>SonicHatchback</td>\n",
       "    </tr>\n",
       "    <tr>\n",
       "      <th>120835</th>\n",
       "      <td>28800</td>\n",
       "      <td>2017</td>\n",
       "      <td>4165</td>\n",
       "      <td>Smyrna</td>\n",
       "      <td>GA</td>\n",
       "      <td>2GNFLGE38H6240856</td>\n",
       "      <td>Chevrolet</td>\n",
       "      <td>EquinoxAWD</td>\n",
       "    </tr>\n",
       "    <tr>\n",
       "      <th>120836</th>\n",
       "      <td>14771</td>\n",
       "      <td>2014</td>\n",
       "      <td>78400</td>\n",
       "      <td>New Haven</td>\n",
       "      <td>IN</td>\n",
       "      <td>1G1125S39EU113487</td>\n",
       "      <td>Chevrolet</td>\n",
       "      <td>Impala2LT</td>\n",
       "    </tr>\n",
       "    <tr>\n",
       "      <th>120837</th>\n",
       "      <td>15907</td>\n",
       "      <td>2015</td>\n",
       "      <td>65274</td>\n",
       "      <td>Corpus Christi</td>\n",
       "      <td>TX</td>\n",
       "      <td>2G1FB1E30F9190774</td>\n",
       "      <td>Chevrolet</td>\n",
       "      <td>CamaroCoupe</td>\n",
       "    </tr>\n",
       "    <tr>\n",
       "      <th>120838</th>\n",
       "      <td>12894</td>\n",
       "      <td>2014</td>\n",
       "      <td>57113</td>\n",
       "      <td>Delray Beach</td>\n",
       "      <td>FL</td>\n",
       "      <td>1G1RA6E44EU129757</td>\n",
       "      <td>Chevrolet</td>\n",
       "      <td>VoltPlug-In</td>\n",
       "    </tr>\n",
       "  </tbody>\n",
       "</table>\n",
       "</div>"
      ],
      "text/plain": [
       "        Price  Year  Mileage              City State                Vin  \\\n",
       "120829  16288  2015    54545         Pensacola    FL  2G1FB1E32F9284364   \n",
       "120830  19995  2016    17604          Beaumont    TX  2G11Z5SA9G9130915   \n",
       "120831   5774  2008   125675        Fort Wayne    IN  2G1WT58K781214125   \n",
       "120832  20990  2017    17219        Marshfield    MO  2G1105S30H9120402   \n",
       "120833  22573  2016      622  Colorado Springs    CO  1GCNCNEC9GZ402232   \n",
       "120834  11495  2014    80086         Langhorne    PA  1G1JC6SH8E4194609   \n",
       "120835  28800  2017     4165            Smyrna    GA  2GNFLGE38H6240856   \n",
       "120836  14771  2014    78400         New Haven    IN  1G1125S39EU113487   \n",
       "120837  15907  2015    65274    Corpus Christi    TX  2G1FB1E30F9190774   \n",
       "120838  12894  2014    57113      Delray Beach    FL  1G1RA6E44EU129757   \n",
       "\n",
       "             Make           Model  \n",
       "120829  Chevrolet     CamaroCoupe  \n",
       "120830  Chevrolet        ImpalaLS  \n",
       "120831  Chevrolet       Impala4dr  \n",
       "120832  Chevrolet        ImpalaLT  \n",
       "120833  Chevrolet       Silverado  \n",
       "120834  Chevrolet  SonicHatchback  \n",
       "120835  Chevrolet      EquinoxAWD  \n",
       "120836  Chevrolet       Impala2LT  \n",
       "120837  Chevrolet     CamaroCoupe  \n",
       "120838  Chevrolet     VoltPlug-In  "
      ]
     },
     "execution_count": 32,
     "metadata": {},
     "output_type": "execute_result"
    }
   ],
   "source": [
    "# Identify all duplicates, including their first occurrences\n",
    "all_duplicates = df.duplicated(keep=False)\n",
    "\n",
    "# Show duplicate rows, including the first occurrences\n",
    "all_duplicate_rows = df[all_duplicates]\n",
    "all_duplicate_rows.head(10)"
   ]
  },
  {
   "cell_type": "code",
   "execution_count": 33,
   "metadata": {},
   "outputs": [
    {
     "data": {
      "text/plain": [
       "(852092, 8)"
      ]
     },
     "execution_count": 33,
     "metadata": {},
     "output_type": "execute_result"
    }
   ],
   "source": [
    "# Remove the duplicates\n",
    "df = df.drop_duplicates()\n",
    "df.shape"
   ]
  },
  {
   "cell_type": "markdown",
   "metadata": {},
   "source": [
    "### **Checking unique values of categorical variables**"
   ]
  },
  {
   "cell_type": "code",
   "execution_count": 34,
   "metadata": {},
   "outputs": [
    {
     "name": "stdout",
     "output_type": "stream",
     "text": [
      "Number of unique values for Year: 22\n",
      "Number of unique values for State: 59\n"
     ]
    },
    {
     "name": "stdout",
     "output_type": "stream",
     "text": [
      "Number of unique values for City: 2553\n",
      "Number of unique values for Make: 58\n",
      "Number of unique values for Model: 2736\n"
     ]
    }
   ],
   "source": [
    "# Print unique values for categorical variables\n",
    "cat_vars = ['Year', 'State', 'City', 'Make', 'Model']\n",
    "\n",
    "for var in cat_vars:\n",
    "    print(f'Number of unique values for {var}: {df[var].nunique()}')"
   ]
  },
  {
   "cell_type": "code",
   "execution_count": 35,
   "metadata": {},
   "outputs": [
    {
     "data": {
      "text/plain": [
       "array([2014, 2013, 2016, 2012, 2009, 2015, 2010, 2011, 2007, 2006, 2008,\n",
       "       2004, 2017, 2005, 2003, 2002, 1999, 2001, 2000, 1998, 2018, 1997],\n",
       "      dtype=int64)"
      ]
     },
     "execution_count": 35,
     "metadata": {},
     "output_type": "execute_result"
    }
   ],
   "source": [
    "# Check unique values of year\n",
    "df['Year'].unique()"
   ]
  },
  {
   "cell_type": "code",
   "execution_count": 36,
   "metadata": {},
   "outputs": [
    {
     "data": {
      "text/plain": [
       "array([' TX', ' NY', ' CO', ' UT', ' FL', ' CT', ' ID', ' ND', ' CA',\n",
       "       ' NJ', ' OH', ' VA', ' IN', ' AZ', ' OR', ' KS', ' NE', ' MA',\n",
       "       ' MD', ' GA', ' MN', ' HI', ' LA', ' NM', ' IL', ' AL', ' PA',\n",
       "       ' SC', ' NC', ' WA', ' WI', ' OK', ' KY', ' MS', ' MO', ' ME',\n",
       "       ' AR', ' MI', ' NV', ' TN', ' Fl', ' NH', ' DE', ' WV', ' Az',\n",
       "       ' VT', ' SD', ' IA', ' RI', ' ga', ' Oh', ' MT', ' DC', ' AK',\n",
       "       ' Va', ' WY', ' Md', ' Ca', ' Ga'], dtype=object)"
      ]
     },
     "execution_count": 36,
     "metadata": {},
     "output_type": "execute_result"
    }
   ],
   "source": [
    "# Check unique values of states\n",
    "df['State'].unique()"
   ]
  },
  {
   "cell_type": "markdown",
   "metadata": {},
   "source": [
    "We see that there are inconsistencies in the state name abbreviations. Both letters need to be capitalized. There is also unnecessary whitespace before each abbreviation. We need to correct these."
   ]
  },
  {
   "cell_type": "code",
   "execution_count": 37,
   "metadata": {},
   "outputs": [
    {
     "name": "stdout",
     "output_type": "stream",
     "text": [
      "['TX' 'NY' 'CO' 'UT' 'FL' 'CT' 'ID' 'ND' 'CA' 'NJ' 'OH' 'VA' 'IN' 'AZ'\n",
      " 'OR' 'KS' 'NE' 'MA' 'MD' 'GA' 'MN' 'HI' 'LA' 'NM' 'IL' 'AL' 'PA' 'SC'\n",
      " 'NC' 'WA' 'WI' 'OK' 'KY' 'MS' 'MO' 'ME' 'AR' 'MI' 'NV' 'TN' 'NH' 'DE'\n",
      " 'WV' 'VT' 'SD' 'IA' 'RI' 'MT' 'DC' 'AK' 'WY']\n",
      "\n",
      "Number of unique values for State: 51\n"
     ]
    }
   ],
   "source": [
    "# Convert all state abbreviations to upper case and remove unnecessary whitespace\n",
    "df['State']= df['State'].str.upper().str.strip()\n",
    "print(df['State'].unique())\n",
    "print('\\nNumber of unique values for State:', df['State'].nunique())"
   ]
  },
  {
   "cell_type": "markdown",
   "metadata": {},
   "source": [
    "### **Check for VIN consistency**"
   ]
  },
  {
   "cell_type": "code",
   "execution_count": 38,
   "metadata": {},
   "outputs": [
    {
     "name": "stdout",
     "output_type": "stream",
     "text": [
      "        Price  Year  Mileage         City State VIN    Make      Model  \\\n",
      "786930  11951  2007   114000  Sioux Falls    SD  69  Toyota  RAV4Sport   \n",
      "\n",
      "        VIN Check  \n",
      "786930      False  \n"
     ]
    }
   ],
   "source": [
    "# Rename Vin\n",
    "df = df.rename(columns={'Vin':'VIN'})\n",
    "\n",
    "# Check if VIN is 17 characters\n",
    "df['VIN Check'] = df['VIN'].apply(lambda x: len(x) == 17)\n",
    "\n",
    "# Display the rows that do not meet the criterion\n",
    "invalid_vins = df[~df['VIN Check']]\n",
    "\n",
    "print(invalid_vins)"
   ]
  },
  {
   "cell_type": "markdown",
   "metadata": {},
   "source": [
    "There is one listing whose VIN is just `69` instead of the normal 17 characters. We will drop this observation from the data."
   ]
  },
  {
   "cell_type": "code",
   "execution_count": 39,
   "metadata": {},
   "outputs": [
    {
     "data": {
      "text/html": [
       "<div>\n",
       "<style scoped>\n",
       "    .dataframe tbody tr th:only-of-type {\n",
       "        vertical-align: middle;\n",
       "    }\n",
       "\n",
       "    .dataframe tbody tr th {\n",
       "        vertical-align: top;\n",
       "    }\n",
       "\n",
       "    .dataframe thead th {\n",
       "        text-align: right;\n",
       "    }\n",
       "</style>\n",
       "<table border=\"1\" class=\"dataframe\">\n",
       "  <thead>\n",
       "    <tr style=\"text-align: right;\">\n",
       "      <th></th>\n",
       "      <th>Price</th>\n",
       "      <th>Year</th>\n",
       "      <th>Mileage</th>\n",
       "      <th>City</th>\n",
       "      <th>State</th>\n",
       "      <th>VIN</th>\n",
       "      <th>Make</th>\n",
       "      <th>Model</th>\n",
       "    </tr>\n",
       "  </thead>\n",
       "  <tbody>\n",
       "    <tr>\n",
       "      <th>0</th>\n",
       "      <td>8995</td>\n",
       "      <td>2014</td>\n",
       "      <td>35725</td>\n",
       "      <td>El Paso</td>\n",
       "      <td>TX</td>\n",
       "      <td>19VDE2E53EE000083</td>\n",
       "      <td>Acura</td>\n",
       "      <td>ILX6-Speed</td>\n",
       "    </tr>\n",
       "    <tr>\n",
       "      <th>1</th>\n",
       "      <td>10888</td>\n",
       "      <td>2013</td>\n",
       "      <td>19606</td>\n",
       "      <td>Long Island City</td>\n",
       "      <td>NY</td>\n",
       "      <td>19VDE1F52DE012636</td>\n",
       "      <td>Acura</td>\n",
       "      <td>ILX5-Speed</td>\n",
       "    </tr>\n",
       "    <tr>\n",
       "      <th>2</th>\n",
       "      <td>8995</td>\n",
       "      <td>2013</td>\n",
       "      <td>48851</td>\n",
       "      <td>El Paso</td>\n",
       "      <td>TX</td>\n",
       "      <td>19VDE2E52DE000025</td>\n",
       "      <td>Acura</td>\n",
       "      <td>ILX6-Speed</td>\n",
       "    </tr>\n",
       "    <tr>\n",
       "      <th>3</th>\n",
       "      <td>10999</td>\n",
       "      <td>2014</td>\n",
       "      <td>39922</td>\n",
       "      <td>Windsor</td>\n",
       "      <td>CO</td>\n",
       "      <td>19VDE1F71EE003817</td>\n",
       "      <td>Acura</td>\n",
       "      <td>ILX5-Speed</td>\n",
       "    </tr>\n",
       "    <tr>\n",
       "      <th>4</th>\n",
       "      <td>14799</td>\n",
       "      <td>2016</td>\n",
       "      <td>22142</td>\n",
       "      <td>Lindon</td>\n",
       "      <td>UT</td>\n",
       "      <td>19UDE2F32GA001284</td>\n",
       "      <td>Acura</td>\n",
       "      <td>ILXAutomatic</td>\n",
       "    </tr>\n",
       "  </tbody>\n",
       "</table>\n",
       "</div>"
      ],
      "text/plain": [
       "   Price  Year  Mileage              City State                VIN   Make  \\\n",
       "0   8995  2014    35725           El Paso    TX  19VDE2E53EE000083  Acura   \n",
       "1  10888  2013    19606  Long Island City    NY  19VDE1F52DE012636  Acura   \n",
       "2   8995  2013    48851           El Paso    TX  19VDE2E52DE000025  Acura   \n",
       "3  10999  2014    39922           Windsor    CO  19VDE1F71EE003817  Acura   \n",
       "4  14799  2016    22142            Lindon    UT  19UDE2F32GA001284  Acura   \n",
       "\n",
       "          Model  \n",
       "0    ILX6-Speed  \n",
       "1    ILX5-Speed  \n",
       "2    ILX6-Speed  \n",
       "3    ILX5-Speed  \n",
       "4  ILXAutomatic  "
      ]
     },
     "execution_count": 39,
     "metadata": {},
     "output_type": "execute_result"
    }
   ],
   "source": [
    "# Keep only observations that pass the VIN check and drop `VIN Check` variable\n",
    "df = df[df['VIN Check']]\n",
    "df = df.drop('VIN Check', axis=1)\n",
    "df.head()"
   ]
  },
  {
   "cell_type": "markdown",
   "metadata": {},
   "source": [
    "The first digit of the `VIN` indicates the country where it was manufactured. For cars manufactured in the US, the VIN begins with 1, 4, or 5. We use this information to create a variable indicate whether a car was manufactured in the US."
   ]
  },
  {
   "cell_type": "code",
   "execution_count": 40,
   "metadata": {},
   "outputs": [],
   "source": [
    "# Determine country of manufacture based on VIN\n",
    "def get_country(vin):\n",
    "    us_vin_prefixes = {'1', '4', '5'}\n",
    "    if vin[0] in us_vin_prefixes:\n",
    "        return 'US'\n",
    "    else:\n",
    "        return 'Outside US'\n",
    "\n",
    "# Apply get_country to VIN column to create new column\n",
    "df['Country of Manufacture'] = df['VIN'].apply(get_country)"
   ]
  },
  {
   "cell_type": "code",
   "execution_count": 41,
   "metadata": {},
   "outputs": [
    {
     "data": {
      "text/plain": [
       "(852091, 9)"
      ]
     },
     "execution_count": 41,
     "metadata": {},
     "output_type": "execute_result"
    }
   ],
   "source": [
    "# Check shape of data\n",
    "df.shape"
   ]
  },
  {
   "cell_type": "markdown",
   "metadata": {},
   "source": [
    "### **Checking for outliers**"
   ]
  },
  {
   "cell_type": "markdown",
   "metadata": {},
   "source": [
    "Since the cars were released in different years, using global (for the whole dataset) values to check for outliers may negatively affect the results. Price changes over time affect monetary values, and older cars are more likely to have higher mileage. We therefore compute statistics (`25th percentile`, `75th percentile`, `IQR`) by year and use this to check for outliers."
   ]
  },
  {
   "cell_type": "code",
   "execution_count": 42,
   "metadata": {},
   "outputs": [
    {
     "data": {
      "text/html": [
       "<div>\n",
       "<style scoped>\n",
       "    .dataframe tbody tr th:only-of-type {\n",
       "        vertical-align: middle;\n",
       "    }\n",
       "\n",
       "    .dataframe tbody tr th {\n",
       "        vertical-align: top;\n",
       "    }\n",
       "\n",
       "    .dataframe thead th {\n",
       "        text-align: right;\n",
       "    }\n",
       "</style>\n",
       "<table border=\"1\" class=\"dataframe\">\n",
       "  <thead>\n",
       "    <tr style=\"text-align: right;\">\n",
       "      <th></th>\n",
       "      <th>Year</th>\n",
       "      <th>Mileage Lower Bound</th>\n",
       "      <th>Mileage Upper Bound</th>\n",
       "      <th>Price Lower Bound</th>\n",
       "      <th>Price Upper Bound</th>\n",
       "    </tr>\n",
       "  </thead>\n",
       "  <tbody>\n",
       "    <tr>\n",
       "      <th>0</th>\n",
       "      <td>1997</td>\n",
       "      <td>-52794.375</td>\n",
       "      <td>345992.625</td>\n",
       "      <td>-3495.250</td>\n",
       "      <td>13822.750</td>\n",
       "    </tr>\n",
       "    <tr>\n",
       "      <th>1</th>\n",
       "      <td>1998</td>\n",
       "      <td>-33201.000</td>\n",
       "      <td>322185.000</td>\n",
       "      <td>-3005.000</td>\n",
       "      <td>12995.000</td>\n",
       "    </tr>\n",
       "    <tr>\n",
       "      <th>2</th>\n",
       "      <td>1999</td>\n",
       "      <td>-39891.250</td>\n",
       "      <td>327910.750</td>\n",
       "      <td>-4497.000</td>\n",
       "      <td>15495.000</td>\n",
       "    </tr>\n",
       "    <tr>\n",
       "      <th>3</th>\n",
       "      <td>2000</td>\n",
       "      <td>-18191.000</td>\n",
       "      <td>292177.000</td>\n",
       "      <td>-3238.000</td>\n",
       "      <td>14730.000</td>\n",
       "    </tr>\n",
       "    <tr>\n",
       "      <th>4</th>\n",
       "      <td>2001</td>\n",
       "      <td>-13707.625</td>\n",
       "      <td>287757.375</td>\n",
       "      <td>-2505.000</td>\n",
       "      <td>14295.000</td>\n",
       "    </tr>\n",
       "    <tr>\n",
       "      <th>5</th>\n",
       "      <td>2002</td>\n",
       "      <td>-11577.625</td>\n",
       "      <td>277109.375</td>\n",
       "      <td>-3494.500</td>\n",
       "      <td>16477.500</td>\n",
       "    </tr>\n",
       "    <tr>\n",
       "      <th>6</th>\n",
       "      <td>2003</td>\n",
       "      <td>-2530.000</td>\n",
       "      <td>266134.000</td>\n",
       "      <td>-3012.500</td>\n",
       "      <td>17007.500</td>\n",
       "    </tr>\n",
       "    <tr>\n",
       "      <th>7</th>\n",
       "      <td>2004</td>\n",
       "      <td>3734.500</td>\n",
       "      <td>255378.500</td>\n",
       "      <td>-2505.000</td>\n",
       "      <td>17503.000</td>\n",
       "    </tr>\n",
       "    <tr>\n",
       "      <th>8</th>\n",
       "      <td>2005</td>\n",
       "      <td>4796.500</td>\n",
       "      <td>244144.500</td>\n",
       "      <td>-2242.500</td>\n",
       "      <td>18937.500</td>\n",
       "    </tr>\n",
       "    <tr>\n",
       "      <th>9</th>\n",
       "      <td>2006</td>\n",
       "      <td>11771.250</td>\n",
       "      <td>226689.250</td>\n",
       "      <td>-2992.500</td>\n",
       "      <td>20987.500</td>\n",
       "    </tr>\n",
       "    <tr>\n",
       "      <th>10</th>\n",
       "      <td>2007</td>\n",
       "      <td>15700.000</td>\n",
       "      <td>213024.000</td>\n",
       "      <td>-3501.000</td>\n",
       "      <td>24499.000</td>\n",
       "    </tr>\n",
       "    <tr>\n",
       "      <th>11</th>\n",
       "      <td>2008</td>\n",
       "      <td>15658.875</td>\n",
       "      <td>197015.875</td>\n",
       "      <td>-2510.000</td>\n",
       "      <td>25498.000</td>\n",
       "    </tr>\n",
       "    <tr>\n",
       "      <th>12</th>\n",
       "      <td>2009</td>\n",
       "      <td>12595.000</td>\n",
       "      <td>182843.000</td>\n",
       "      <td>-1631.000</td>\n",
       "      <td>25065.000</td>\n",
       "    </tr>\n",
       "    <tr>\n",
       "      <th>13</th>\n",
       "      <td>2010</td>\n",
       "      <td>12601.250</td>\n",
       "      <td>168439.250</td>\n",
       "      <td>-1770.375</td>\n",
       "      <td>28260.625</td>\n",
       "    </tr>\n",
       "    <tr>\n",
       "      <th>14</th>\n",
       "      <td>2011</td>\n",
       "      <td>9000.000</td>\n",
       "      <td>156762.000</td>\n",
       "      <td>-2328.375</td>\n",
       "      <td>33070.625</td>\n",
       "    </tr>\n",
       "    <tr>\n",
       "      <th>15</th>\n",
       "      <td>2012</td>\n",
       "      <td>-841.125</td>\n",
       "      <td>146557.875</td>\n",
       "      <td>-4011.000</td>\n",
       "      <td>36005.000</td>\n",
       "    </tr>\n",
       "    <tr>\n",
       "      <th>16</th>\n",
       "      <td>2013</td>\n",
       "      <td>-9769.500</td>\n",
       "      <td>128562.500</td>\n",
       "      <td>-3612.500</td>\n",
       "      <td>40407.500</td>\n",
       "    </tr>\n",
       "    <tr>\n",
       "      <th>17</th>\n",
       "      <td>2014</td>\n",
       "      <td>-5843.000</td>\n",
       "      <td>86885.000</td>\n",
       "      <td>-3390.125</td>\n",
       "      <td>45636.875</td>\n",
       "    </tr>\n",
       "    <tr>\n",
       "      <th>18</th>\n",
       "      <td>2015</td>\n",
       "      <td>-8385.500</td>\n",
       "      <td>74050.500</td>\n",
       "      <td>-6471.500</td>\n",
       "      <td>53452.500</td>\n",
       "    </tr>\n",
       "    <tr>\n",
       "      <th>19</th>\n",
       "      <td>2016</td>\n",
       "      <td>-20855.000</td>\n",
       "      <td>71545.000</td>\n",
       "      <td>-7232.500</td>\n",
       "      <td>54707.500</td>\n",
       "    </tr>\n",
       "    <tr>\n",
       "      <th>20</th>\n",
       "      <td>2017</td>\n",
       "      <td>-18086.750</td>\n",
       "      <td>45735.250</td>\n",
       "      <td>-6430.000</td>\n",
       "      <td>61658.000</td>\n",
       "    </tr>\n",
       "    <tr>\n",
       "      <th>21</th>\n",
       "      <td>2018</td>\n",
       "      <td>-3648.250</td>\n",
       "      <td>6109.750</td>\n",
       "      <td>10943.125</td>\n",
       "      <td>69748.125</td>\n",
       "    </tr>\n",
       "  </tbody>\n",
       "</table>\n",
       "</div>"
      ],
      "text/plain": [
       "    Year  Mileage Lower Bound  Mileage Upper Bound  Price Lower Bound  \\\n",
       "0   1997           -52794.375           345992.625          -3495.250   \n",
       "1   1998           -33201.000           322185.000          -3005.000   \n",
       "2   1999           -39891.250           327910.750          -4497.000   \n",
       "3   2000           -18191.000           292177.000          -3238.000   \n",
       "4   2001           -13707.625           287757.375          -2505.000   \n",
       "5   2002           -11577.625           277109.375          -3494.500   \n",
       "6   2003            -2530.000           266134.000          -3012.500   \n",
       "7   2004             3734.500           255378.500          -2505.000   \n",
       "8   2005             4796.500           244144.500          -2242.500   \n",
       "9   2006            11771.250           226689.250          -2992.500   \n",
       "10  2007            15700.000           213024.000          -3501.000   \n",
       "11  2008            15658.875           197015.875          -2510.000   \n",
       "12  2009            12595.000           182843.000          -1631.000   \n",
       "13  2010            12601.250           168439.250          -1770.375   \n",
       "14  2011             9000.000           156762.000          -2328.375   \n",
       "15  2012             -841.125           146557.875          -4011.000   \n",
       "16  2013            -9769.500           128562.500          -3612.500   \n",
       "17  2014            -5843.000            86885.000          -3390.125   \n",
       "18  2015            -8385.500            74050.500          -6471.500   \n",
       "19  2016           -20855.000            71545.000          -7232.500   \n",
       "20  2017           -18086.750            45735.250          -6430.000   \n",
       "21  2018            -3648.250             6109.750          10943.125   \n",
       "\n",
       "    Price Upper Bound  \n",
       "0           13822.750  \n",
       "1           12995.000  \n",
       "2           15495.000  \n",
       "3           14730.000  \n",
       "4           14295.000  \n",
       "5           16477.500  \n",
       "6           17007.500  \n",
       "7           17503.000  \n",
       "8           18937.500  \n",
       "9           20987.500  \n",
       "10          24499.000  \n",
       "11          25498.000  \n",
       "12          25065.000  \n",
       "13          28260.625  \n",
       "14          33070.625  \n",
       "15          36005.000  \n",
       "16          40407.500  \n",
       "17          45636.875  \n",
       "18          53452.500  \n",
       "19          54707.500  \n",
       "20          61658.000  \n",
       "21          69748.125  "
      ]
     },
     "execution_count": 42,
     "metadata": {},
     "output_type": "execute_result"
    }
   ],
   "source": [
    "mileage_stats = df.groupby('Year')['Mileage'].describe(percentiles=[.25, .75])\n",
    "mileage_stats['IQR'] = mileage_stats['75%'] - mileage_stats['25%']\n",
    "mileage_stats['Lower Bound'] = mileage_stats['25%'] - 1.5 * mileage_stats['IQR']\n",
    "mileage_stats['Upper Bound'] = mileage_stats['75%'] + 1.5 * mileage_stats['IQR']\n",
    "\n",
    "mileage_result = mileage_stats[['Lower Bound', 'Upper Bound']].reset_index()\n",
    "mileage_result.columns = ['Year', 'Mileage Lower Bound', 'Mileage Upper Bound']\n",
    "\n",
    "price_stats = df.groupby('Year')['Price'].describe(percentiles=[.25, .75])\n",
    "price_stats['IQR'] = price_stats['75%'] - price_stats['25%']\n",
    "price_stats['Lower Bound'] = price_stats['25%'] - 1.5 * price_stats['IQR']\n",
    "price_stats['Upper Bound'] = price_stats['75%'] + 1.5 * price_stats['IQR']\n",
    "\n",
    "price_result = price_stats[['Lower Bound', 'Upper Bound']].reset_index()\n",
    "price_result.columns = ['Year', 'Price Lower Bound', 'Price Upper Bound']\n",
    "\n",
    "results = pd.merge(mileage_result, price_result, on='Year')\n",
    "results"
   ]
  },
  {
   "cell_type": "markdown",
   "metadata": {},
   "source": [
    "Some of the lower bounds are negative, and so we focus on the upper bounds. Every row that has price or mileage above the upper bound for a particular year is dropped."
   ]
  },
  {
   "cell_type": "code",
   "execution_count": 43,
   "metadata": {},
   "outputs": [
    {
     "data": {
      "text/html": [
       "<div>\n",
       "<style scoped>\n",
       "    .dataframe tbody tr th:only-of-type {\n",
       "        vertical-align: middle;\n",
       "    }\n",
       "\n",
       "    .dataframe tbody tr th {\n",
       "        vertical-align: top;\n",
       "    }\n",
       "\n",
       "    .dataframe thead th {\n",
       "        text-align: right;\n",
       "    }\n",
       "</style>\n",
       "<table border=\"1\" class=\"dataframe\">\n",
       "  <thead>\n",
       "    <tr style=\"text-align: right;\">\n",
       "      <th></th>\n",
       "      <th>Price</th>\n",
       "      <th>Year</th>\n",
       "      <th>Mileage</th>\n",
       "      <th>City</th>\n",
       "      <th>State</th>\n",
       "      <th>VIN</th>\n",
       "      <th>Make</th>\n",
       "      <th>Model</th>\n",
       "      <th>Country of Manufacture</th>\n",
       "    </tr>\n",
       "  </thead>\n",
       "  <tbody>\n",
       "    <tr>\n",
       "      <th>0</th>\n",
       "      <td>8995</td>\n",
       "      <td>2014</td>\n",
       "      <td>35725</td>\n",
       "      <td>El Paso</td>\n",
       "      <td>TX</td>\n",
       "      <td>19VDE2E53EE000083</td>\n",
       "      <td>Acura</td>\n",
       "      <td>ILX6-Speed</td>\n",
       "      <td>US</td>\n",
       "    </tr>\n",
       "    <tr>\n",
       "      <th>1</th>\n",
       "      <td>10999</td>\n",
       "      <td>2014</td>\n",
       "      <td>39922</td>\n",
       "      <td>Windsor</td>\n",
       "      <td>CO</td>\n",
       "      <td>19VDE1F71EE003817</td>\n",
       "      <td>Acura</td>\n",
       "      <td>ILX5-Speed</td>\n",
       "      <td>US</td>\n",
       "    </tr>\n",
       "    <tr>\n",
       "      <th>2</th>\n",
       "      <td>14490</td>\n",
       "      <td>2014</td>\n",
       "      <td>34032</td>\n",
       "      <td>Greatneck</td>\n",
       "      <td>NY</td>\n",
       "      <td>JH4CU2F84EC002686</td>\n",
       "      <td>Acura</td>\n",
       "      <td>TSXSpecial</td>\n",
       "      <td>Outside US</td>\n",
       "    </tr>\n",
       "    <tr>\n",
       "      <th>3</th>\n",
       "      <td>14995</td>\n",
       "      <td>2014</td>\n",
       "      <td>23454</td>\n",
       "      <td>Hackettstown</td>\n",
       "      <td>NJ</td>\n",
       "      <td>19VDE1F31EE009243</td>\n",
       "      <td>Acura</td>\n",
       "      <td>ILX5-Speed</td>\n",
       "      <td>US</td>\n",
       "    </tr>\n",
       "    <tr>\n",
       "      <th>4</th>\n",
       "      <td>15499</td>\n",
       "      <td>2014</td>\n",
       "      <td>27171</td>\n",
       "      <td>Santa Ana</td>\n",
       "      <td>CA</td>\n",
       "      <td>JH4CU2F49EC005287</td>\n",
       "      <td>Acura</td>\n",
       "      <td>TSX5-Speed</td>\n",
       "      <td>Outside US</td>\n",
       "    </tr>\n",
       "    <tr>\n",
       "      <th>5</th>\n",
       "      <td>13499</td>\n",
       "      <td>2014</td>\n",
       "      <td>35037</td>\n",
       "      <td>West Covina</td>\n",
       "      <td>CA</td>\n",
       "      <td>19VDE1F32EE013995</td>\n",
       "      <td>Acura</td>\n",
       "      <td>ILX5-Speed</td>\n",
       "      <td>US</td>\n",
       "    </tr>\n",
       "    <tr>\n",
       "      <th>6</th>\n",
       "      <td>14999</td>\n",
       "      <td>2014</td>\n",
       "      <td>17669</td>\n",
       "      <td>Miami</td>\n",
       "      <td>FL</td>\n",
       "      <td>19VDE1F37EE015239</td>\n",
       "      <td>Acura</td>\n",
       "      <td>ILX5-Speed</td>\n",
       "      <td>US</td>\n",
       "    </tr>\n",
       "    <tr>\n",
       "      <th>7</th>\n",
       "      <td>15995</td>\n",
       "      <td>2014</td>\n",
       "      <td>37483</td>\n",
       "      <td>Egg Harbor</td>\n",
       "      <td>NJ</td>\n",
       "      <td>JH4CU2F80EC004208</td>\n",
       "      <td>Acura</td>\n",
       "      <td>TSXSpecial</td>\n",
       "      <td>Outside US</td>\n",
       "    </tr>\n",
       "    <tr>\n",
       "      <th>8</th>\n",
       "      <td>13995</td>\n",
       "      <td>2014</td>\n",
       "      <td>30214</td>\n",
       "      <td>Dumfries</td>\n",
       "      <td>VA</td>\n",
       "      <td>19VDE1F37EE014687</td>\n",
       "      <td>Acura</td>\n",
       "      <td>ILX5-Speed</td>\n",
       "      <td>US</td>\n",
       "    </tr>\n",
       "    <tr>\n",
       "      <th>9</th>\n",
       "      <td>15994</td>\n",
       "      <td>2014</td>\n",
       "      <td>18821</td>\n",
       "      <td>Wappingers Falls</td>\n",
       "      <td>NY</td>\n",
       "      <td>19VDE1F36EE011120</td>\n",
       "      <td>Acura</td>\n",
       "      <td>ILX5-Speed</td>\n",
       "      <td>US</td>\n",
       "    </tr>\n",
       "  </tbody>\n",
       "</table>\n",
       "</div>"
      ],
      "text/plain": [
       "   Price  Year  Mileage              City State                VIN   Make  \\\n",
       "0   8995  2014    35725           El Paso    TX  19VDE2E53EE000083  Acura   \n",
       "1  10999  2014    39922           Windsor    CO  19VDE1F71EE003817  Acura   \n",
       "2  14490  2014    34032         Greatneck    NY  JH4CU2F84EC002686  Acura   \n",
       "3  14995  2014    23454      Hackettstown    NJ  19VDE1F31EE009243  Acura   \n",
       "4  15499  2014    27171         Santa Ana    CA  JH4CU2F49EC005287  Acura   \n",
       "5  13499  2014    35037       West Covina    CA  19VDE1F32EE013995  Acura   \n",
       "6  14999  2014    17669             Miami    FL  19VDE1F37EE015239  Acura   \n",
       "7  15995  2014    37483        Egg Harbor    NJ  JH4CU2F80EC004208  Acura   \n",
       "8  13995  2014    30214          Dumfries    VA  19VDE1F37EE014687  Acura   \n",
       "9  15994  2014    18821  Wappingers Falls    NY  19VDE1F36EE011120  Acura   \n",
       "\n",
       "        Model Country of Manufacture  \n",
       "0  ILX6-Speed                     US  \n",
       "1  ILX5-Speed                     US  \n",
       "2  TSXSpecial             Outside US  \n",
       "3  ILX5-Speed                     US  \n",
       "4  TSX5-Speed             Outside US  \n",
       "5  ILX5-Speed                     US  \n",
       "6  ILX5-Speed                     US  \n",
       "7  TSXSpecial             Outside US  \n",
       "8  ILX5-Speed                     US  \n",
       "9  ILX5-Speed                     US  "
      ]
     },
     "execution_count": 43,
     "metadata": {},
     "output_type": "execute_result"
    }
   ],
   "source": [
    "# Merge average mileage with original dataframe\n",
    "df = pd.merge(df, results[['Year', 'Mileage Upper Bound','Price Upper Bound']], on='Year')\n",
    "\n",
    "#Drop cars with above-upper-bound mileage or price\n",
    "df = df[(df['Mileage'] < df['Mileage Upper Bound']) | (df['Price'] < df['Price Upper Bound'])]\n",
    "df = df.drop(columns=['Mileage Upper Bound', 'Price Upper Bound'])\n",
    "\n",
    "df.head(10)"
   ]
  },
  {
   "cell_type": "code",
   "execution_count": 44,
   "metadata": {},
   "outputs": [
    {
     "data": {
      "text/plain": [
       "(852015, 9)"
      ]
     },
     "execution_count": 44,
     "metadata": {},
     "output_type": "execute_result"
    }
   ],
   "source": [
    "# Check shape of data\n",
    "df.shape"
   ]
  },
  {
   "cell_type": "markdown",
   "metadata": {},
   "source": [
    "### **Exploratory Data Visualizations**"
   ]
  },
  {
   "cell_type": "code",
   "execution_count": 45,
   "metadata": {},
   "outputs": [
    {
     "data": {
      "image/png": "[encoded data removed]",
      "text/plain": [
       "<Figure size 640x480 with 1 Axes>"
      ]
     },
     "metadata": {},
     "output_type": "display_data"
    }
   ],
   "source": [
    "# Visualize top 10 car makes\n",
    "top_car_makes = df['Make'].value_counts().head(10)\n",
    "sns.barplot(x=top_car_makes.values, y=top_car_makes.index, palette='muted', saturation=0.95)\n",
    "plt.xlabel('Frequency')\n",
    "plt.ylabel('Car Model')\n",
    "plt.tight_layout()\n",
    "plt.show()"
   ]
  },
  {
   "cell_type": "code",
   "execution_count": 46,
   "metadata": {},
   "outputs": [
    {
     "data": {
      "text/html": [
       "<div>\n",
       "<style scoped>\n",
       "    .dataframe tbody tr th:only-of-type {\n",
       "        vertical-align: middle;\n",
       "    }\n",
       "\n",
       "    .dataframe tbody tr th {\n",
       "        vertical-align: top;\n",
       "    }\n",
       "\n",
       "    .dataframe thead th {\n",
       "        text-align: right;\n",
       "    }\n",
       "</style>\n",
       "<table border=\"1\" class=\"dataframe\">\n",
       "  <thead>\n",
       "    <tr style=\"text-align: right;\">\n",
       "      <th></th>\n",
       "      <th>Make</th>\n",
       "      <th>Percentage</th>\n",
       "      <th>Cumulative Percentage</th>\n",
       "    </tr>\n",
       "  </thead>\n",
       "  <tbody>\n",
       "    <tr>\n",
       "      <th>0</th>\n",
       "      <td>Ford</td>\n",
       "      <td>12.957401</td>\n",
       "      <td>12.957401</td>\n",
       "    </tr>\n",
       "    <tr>\n",
       "      <th>1</th>\n",
       "      <td>Chevrolet</td>\n",
       "      <td>12.000141</td>\n",
       "      <td>24.957542</td>\n",
       "    </tr>\n",
       "    <tr>\n",
       "      <th>2</th>\n",
       "      <td>Toyota</td>\n",
       "      <td>9.128478</td>\n",
       "      <td>34.086020</td>\n",
       "    </tr>\n",
       "    <tr>\n",
       "      <th>3</th>\n",
       "      <td>Nissan</td>\n",
       "      <td>7.775685</td>\n",
       "      <td>41.861704</td>\n",
       "    </tr>\n",
       "    <tr>\n",
       "      <th>4</th>\n",
       "      <td>Honda</td>\n",
       "      <td>5.891093</td>\n",
       "      <td>47.752798</td>\n",
       "    </tr>\n",
       "    <tr>\n",
       "      <th>5</th>\n",
       "      <td>Jeep</td>\n",
       "      <td>4.738532</td>\n",
       "      <td>52.491329</td>\n",
       "    </tr>\n",
       "    <tr>\n",
       "      <th>6</th>\n",
       "      <td>Hyundai</td>\n",
       "      <td>4.205677</td>\n",
       "      <td>56.697007</td>\n",
       "    </tr>\n",
       "    <tr>\n",
       "      <th>7</th>\n",
       "      <td>Dodge</td>\n",
       "      <td>4.033145</td>\n",
       "      <td>60.730151</td>\n",
       "    </tr>\n",
       "    <tr>\n",
       "      <th>8</th>\n",
       "      <td>BMW</td>\n",
       "      <td>3.804510</td>\n",
       "      <td>64.534662</td>\n",
       "    </tr>\n",
       "    <tr>\n",
       "      <th>9</th>\n",
       "      <td>GMC</td>\n",
       "      <td>3.403344</td>\n",
       "      <td>67.938006</td>\n",
       "    </tr>\n",
       "  </tbody>\n",
       "</table>\n",
       "</div>"
      ],
      "text/plain": [
       "        Make  Percentage  Cumulative Percentage\n",
       "0       Ford   12.957401              12.957401\n",
       "1  Chevrolet   12.000141              24.957542\n",
       "2     Toyota    9.128478              34.086020\n",
       "3     Nissan    7.775685              41.861704\n",
       "4      Honda    5.891093              47.752798\n",
       "5       Jeep    4.738532              52.491329\n",
       "6    Hyundai    4.205677              56.697007\n",
       "7      Dodge    4.033145              60.730151\n",
       "8        BMW    3.804510              64.534662\n",
       "9        GMC    3.403344              67.938006"
      ]
     },
     "execution_count": 46,
     "metadata": {},
     "output_type": "execute_result"
    }
   ],
   "source": [
    "top_10_makes = 100*df['Make'].value_counts(normalize=True).head(10)\n",
    "top_10_makes = top_10_makes.reset_index()\n",
    "top_10_makes.columns = ['Make', 'Percentage']\n",
    "top_10_makes['Cumulative Percentage'] = top_10_makes['Percentage'].cumsum()\n",
    "top_10_makes"
   ]
  },
  {
   "cell_type": "code",
   "execution_count": 47,
   "metadata": {},
   "outputs": [
    {
     "data": {
      "text/html": [
       "<div>\n",
       "<style scoped>\n",
       "    .dataframe tbody tr th:only-of-type {\n",
       "        vertical-align: middle;\n",
       "    }\n",
       "\n",
       "    .dataframe tbody tr th {\n",
       "        vertical-align: top;\n",
       "    }\n",
       "\n",
       "    .dataframe thead th {\n",
       "        text-align: right;\n",
       "    }\n",
       "</style>\n",
       "<table border=\"1\" class=\"dataframe\">\n",
       "  <thead>\n",
       "    <tr style=\"text-align: right;\">\n",
       "      <th></th>\n",
       "      <th>Make</th>\n",
       "      <th>Model</th>\n",
       "      <th>Count</th>\n",
       "    </tr>\n",
       "  </thead>\n",
       "  <tbody>\n",
       "    <tr>\n",
       "      <th>103959</th>\n",
       "      <td>BMW</td>\n",
       "      <td>3</td>\n",
       "      <td>11131</td>\n",
       "    </tr>\n",
       "    <tr>\n",
       "      <th>155769</th>\n",
       "      <td>BMW</td>\n",
       "      <td>5</td>\n",
       "      <td>5348</td>\n",
       "    </tr>\n",
       "    <tr>\n",
       "      <th>278700</th>\n",
       "      <td>BMW</td>\n",
       "      <td>4</td>\n",
       "      <td>2404</td>\n",
       "    </tr>\n",
       "    <tr>\n",
       "      <th>0</th>\n",
       "      <td>Chevrolet</td>\n",
       "      <td>Silverado</td>\n",
       "      <td>24919</td>\n",
       "    </tr>\n",
       "    <tr>\n",
       "      <th>144097</th>\n",
       "      <td>Chevrolet</td>\n",
       "      <td>EquinoxFWD</td>\n",
       "      <td>6223</td>\n",
       "    </tr>\n",
       "    <tr>\n",
       "      <th>175723</th>\n",
       "      <td>Chevrolet</td>\n",
       "      <td>MalibuLT</td>\n",
       "      <td>4515</td>\n",
       "    </tr>\n",
       "    <tr>\n",
       "      <th>24919</th>\n",
       "      <td>Dodge</td>\n",
       "      <td>Grand</td>\n",
       "      <td>16604</td>\n",
       "    </tr>\n",
       "    <tr>\n",
       "      <th>188653</th>\n",
       "      <td>Dodge</td>\n",
       "      <td>Ram</td>\n",
       "      <td>3985</td>\n",
       "    </tr>\n",
       "    <tr>\n",
       "      <th>305862</th>\n",
       "      <td>Dodge</td>\n",
       "      <td>DartSXT</td>\n",
       "      <td>2109</td>\n",
       "    </tr>\n",
       "    <tr>\n",
       "      <th>56025</th>\n",
       "      <td>Ford</td>\n",
       "      <td>F-1504WD</td>\n",
       "      <td>14176</td>\n",
       "    </tr>\n",
       "    <tr>\n",
       "      <th>123065</th>\n",
       "      <td>Ford</td>\n",
       "      <td>Super</td>\n",
       "      <td>7939</td>\n",
       "    </tr>\n",
       "    <tr>\n",
       "      <th>137712</th>\n",
       "      <td>Ford</td>\n",
       "      <td>FusionSE</td>\n",
       "      <td>6385</td>\n",
       "    </tr>\n",
       "    <tr>\n",
       "      <th>92762</th>\n",
       "      <td>GMC</td>\n",
       "      <td>Sierra</td>\n",
       "      <td>11197</td>\n",
       "    </tr>\n",
       "    <tr>\n",
       "      <th>227264</th>\n",
       "      <td>GMC</td>\n",
       "      <td>TerrainFWD</td>\n",
       "      <td>3125</td>\n",
       "    </tr>\n",
       "    <tr>\n",
       "      <th>250500</th>\n",
       "      <td>GMC</td>\n",
       "      <td>AcadiaFWD</td>\n",
       "      <td>2697</td>\n",
       "    </tr>\n",
       "    <tr>\n",
       "      <th>41523</th>\n",
       "      <td>Honda</td>\n",
       "      <td>Accord</td>\n",
       "      <td>14502</td>\n",
       "    </tr>\n",
       "    <tr>\n",
       "      <th>81489</th>\n",
       "      <td>Honda</td>\n",
       "      <td>Civic</td>\n",
       "      <td>11273</td>\n",
       "    </tr>\n",
       "    <tr>\n",
       "      <th>239459</th>\n",
       "      <td>Honda</td>\n",
       "      <td>CR-VEX-L</td>\n",
       "      <td>2857</td>\n",
       "    </tr>\n",
       "    <tr>\n",
       "      <th>131004</th>\n",
       "      <td>Hyundai</td>\n",
       "      <td>Santa</td>\n",
       "      <td>6708</td>\n",
       "    </tr>\n",
       "    <tr>\n",
       "      <th>210777</th>\n",
       "      <td>Hyundai</td>\n",
       "      <td>Sonata2.4L</td>\n",
       "      <td>3380</td>\n",
       "    </tr>\n",
       "    <tr>\n",
       "      <th>230389</th>\n",
       "      <td>Hyundai</td>\n",
       "      <td>Elantra4dr</td>\n",
       "      <td>3104</td>\n",
       "    </tr>\n",
       "    <tr>\n",
       "      <th>25548</th>\n",
       "      <td>Jeep</td>\n",
       "      <td>Grand</td>\n",
       "      <td>16604</td>\n",
       "    </tr>\n",
       "    <tr>\n",
       "      <th>115090</th>\n",
       "      <td>Jeep</td>\n",
       "      <td>Wrangler</td>\n",
       "      <td>7975</td>\n",
       "    </tr>\n",
       "    <tr>\n",
       "      <th>320188</th>\n",
       "      <td>Jeep</td>\n",
       "      <td>PatriotSport</td>\n",
       "      <td>1896</td>\n",
       "    </tr>\n",
       "    <tr>\n",
       "      <th>70201</th>\n",
       "      <td>Nissan</td>\n",
       "      <td>Altima2.5</td>\n",
       "      <td>11288</td>\n",
       "    </tr>\n",
       "    <tr>\n",
       "      <th>224060</th>\n",
       "      <td>Nissan</td>\n",
       "      <td>RogueSV</td>\n",
       "      <td>3204</td>\n",
       "    </tr>\n",
       "    <tr>\n",
       "      <th>255891</th>\n",
       "      <td>Nissan</td>\n",
       "      <td>SentraSV</td>\n",
       "      <td>2686</td>\n",
       "    </tr>\n",
       "    <tr>\n",
       "      <th>150320</th>\n",
       "      <td>Toyota</td>\n",
       "      <td>Tundra</td>\n",
       "      <td>5449</td>\n",
       "    </tr>\n",
       "    <tr>\n",
       "      <th>166261</th>\n",
       "      <td>Toyota</td>\n",
       "      <td>CamrySE</td>\n",
       "      <td>4825</td>\n",
       "    </tr>\n",
       "    <tr>\n",
       "      <th>184481</th>\n",
       "      <td>Toyota</td>\n",
       "      <td>CorollaLE</td>\n",
       "      <td>4172</td>\n",
       "    </tr>\n",
       "  </tbody>\n",
       "</table>\n",
       "</div>"
      ],
      "text/plain": [
       "             Make         Model  Count\n",
       "103959        BMW             3  11131\n",
       "155769        BMW             5   5348\n",
       "278700        BMW             4   2404\n",
       "0       Chevrolet     Silverado  24919\n",
       "144097  Chevrolet    EquinoxFWD   6223\n",
       "175723  Chevrolet      MalibuLT   4515\n",
       "24919       Dodge         Grand  16604\n",
       "188653      Dodge           Ram   3985\n",
       "305862      Dodge       DartSXT   2109\n",
       "56025        Ford      F-1504WD  14176\n",
       "123065       Ford         Super   7939\n",
       "137712       Ford      FusionSE   6385\n",
       "92762         GMC        Sierra  11197\n",
       "227264        GMC    TerrainFWD   3125\n",
       "250500        GMC     AcadiaFWD   2697\n",
       "41523       Honda        Accord  14502\n",
       "81489       Honda         Civic  11273\n",
       "239459      Honda      CR-VEX-L   2857\n",
       "131004    Hyundai         Santa   6708\n",
       "210777    Hyundai    Sonata2.4L   3380\n",
       "230389    Hyundai    Elantra4dr   3104\n",
       "25548        Jeep         Grand  16604\n",
       "115090       Jeep      Wrangler   7975\n",
       "320188       Jeep  PatriotSport   1896\n",
       "70201      Nissan     Altima2.5  11288\n",
       "224060     Nissan       RogueSV   3204\n",
       "255891     Nissan      SentraSV   2686\n",
       "150320     Toyota        Tundra   5449\n",
       "166261     Toyota       CamrySE   4825\n",
       "184481     Toyota     CorollaLE   4172"
      ]
     },
     "execution_count": 47,
     "metadata": {},
     "output_type": "execute_result"
    }
   ],
   "source": [
    "# Filter data for top  makes\n",
    "top_makes = list(top_10_makes['Make'])\n",
    "make_df = df[df['Make'].isin(top_makes)]\n",
    "\n",
    "# Examine the models for each make\n",
    "model_counts = make_df['Model'].value_counts().reset_index()\n",
    "model_counts.columns = ['Model', 'Count']\n",
    "\n",
    "df_models = pd.merge(model_counts, make_df[['Make', 'Model']], on='Model').drop_duplicates()\n",
    "\n",
    "# Sort the counts within each make and get the top 3 models\n",
    "top_models_per_make = df_models.sort_values(\n",
    "    ['Make', 'Count'], ascending=[True, False]).groupby('Make').head(3)\n",
    "\n",
    "# Re-arrange columns for clarity\n",
    "cols = ['Make', 'Model', 'Count']\n",
    "top_models_per_make = top_models_per_make[cols]\n",
    "\n",
    "top_models_per_make"
   ]
  },
  {
   "cell_type": "markdown",
   "metadata": {},
   "source": [
    "The top 5 makes out of the 58 (*Ford*, *Chevrolet*, *Toyota*, *Nissan*, and *Honda*) account for almost half (`47.75%`) of the listings, and the top 10 makes account for `68%` of the listings.\n",
    "\n",
    "Also, the most popular model for *BMW* is the *3 Series*, for *Chevrolet*, it is the *Silverado*, for *Dodge*, it is the *Grand Caravan*, and for *Ford*, it is the *F-150 4WD*."
   ]
  },
  {
   "cell_type": "code",
   "execution_count": 48,
   "metadata": {},
   "outputs": [
    {
     "data": {
      "image/png": "[encoded data removed]",
      "text/plain": [
       "<Figure size 640x480 with 1 Axes>"
      ]
     },
     "metadata": {},
     "output_type": "display_data"
    }
   ],
   "source": [
    "# Show number of listings for each year\n",
    "sns.countplot(x=df['Year'], palette='muted', saturation=0.95)\n",
    "plt.xlabel('Year')\n",
    "plt.ylabel('Frequency')\n",
    "plt.xticks(rotation=45)\n",
    "plt.tight_layout()\n",
    "plt.show()"
   ]
  },
  {
   "cell_type": "markdown",
   "metadata": {},
   "source": [
    "Generally, newer cars are more popular on the used cars market than older ones. We see that very few listed cars were manufactured before the year 2000. The year with the highest number of listed cars is 2014. And since the data is from 2018, we see that very few listings from that year."
   ]
  },
  {
   "cell_type": "code",
   "execution_count": 49,
   "metadata": {},
   "outputs": [
    {
     "data": {
      "image/png": "[encoded data removed]",
      "text/plain": [
       "<Figure size 1000x500 with 1 Axes>"
      ]
     },
     "metadata": {},
     "output_type": "display_data"
    }
   ],
   "source": [
    "# Set up the figure and axes\n",
    "plt.figure(figsize=(10, 5))\n",
    "\n",
    "# Create the countplot\n",
    "sns.countplot(x='Country of Manufacture', data=df, order=['US', 'Outside US'], palette='Set2')\n",
    "\n",
    "# Set the title and labels\n",
    "plt.title('Country of Manufacture (US vs. Outside US)')\n",
    "plt.xlabel('Country of Manufacture')\n",
    "plt.ylabel('Count')\n",
    "\n",
    "# Add percentage labels\n",
    "total = len(df)\n",
    "for i, (value, count) in enumerate(df['Country of Manufacture'].value_counts().items()):\n",
    "    percentage = f'{round(count / total * 100, 1)}%'\n",
    "    plt.text(i, count, percentage, ha='center', va='bottom', fontsize=10, color='black', fontweight='normal', bbox=dict(facecolor='white', edgecolor='black', boxstyle='round,pad=0.5'))\n",
    "\n",
    "# Show the plot\n",
    "plt.show()\n"
   ]
  },
  {
   "cell_type": "markdown",
   "metadata": {},
   "source": [
    "The majority of cars listed in the dataset are manufactured within the US (`53%`) as opposed to outside the US."
   ]
  },
  {
   "cell_type": "code",
   "execution_count": 50,
   "metadata": {},
   "outputs": [
    {
     "data": {
      "image/png": "[encoded data removed]",
      "text/plain": [
       "<Figure size 640x480 with 2 Axes>"
      ]
     },
     "metadata": {},
     "output_type": "display_data"
    }
   ],
   "source": [
    "# Creating correlation matrix\n",
    "corr = df.corr(numeric_only=True)\n",
    "\n",
    "sns.heatmap(corr, annot=True, cmap='Oranges')\n",
    "plt.title('Correlation Matrix of Used Cars Dataset')\n",
    "plt.show()"
   ]
  },
  {
   "cell_type": "markdown",
   "metadata": {},
   "source": [
    "`Price` and `Mileage` are negatively correlated. This is understandble, since mileage is an indicator of the extent of use. Cars with high prior use, generally fetch a lower price on the market. `Mileage` is also negatively correlated with the `Year`. Newer cars will generally have less mileage since they have been driven for a shorter period of time. We also see a positive correlation between `Year` and `Price`. This indicates that newer cars generally have higher prices on the used car market."
   ]
  },
  {
   "cell_type": "markdown",
   "metadata": {},
   "source": [
    "## **Choosing Ford**"
   ]
  },
  {
   "cell_type": "markdown",
   "metadata": {},
   "source": [
    "We have previously seen that *Ford* has the highest number of listings in the market, with 12.957% of all listings. This is closely followed by *Chevrolet* with 12.0% of all listings and then Toyota with 9.128%. In order to be able to do conduct deeper analysis, I focus the rest of my analysis only on Ford vehicle listings. "
   ]
  },
  {
   "cell_type": "code",
   "execution_count": 51,
   "metadata": {},
   "outputs": [
    {
     "name": "stdout",
     "output_type": "stream",
     "text": [
      "<class 'pandas.core.frame.DataFrame'>\n",
      "Index: 110399 entries, 43982 to 851789\n",
      "Data columns (total 9 columns):\n",
      " #   Column                  Non-Null Count   Dtype \n",
      "---  ------                  --------------   ----- \n",
      " 0   Price                   110399 non-null  int64 \n",
      " 1   Year                    110399 non-null  int64 \n",
      " 2   Mileage                 110399 non-null  int64 \n",
      " 3   City                    110399 non-null  object\n",
      " 4   State                   110399 non-null  object\n",
      " 5   VIN                     110399 non-null  object\n",
      " 6   Make                    110399 non-null  object\n",
      " 7   Model                   110399 non-null  object\n",
      " 8   Country of Manufacture  110399 non-null  object\n",
      "dtypes: int64(3), object(6)\n",
      "memory usage: 8.4+ MB\n"
     ]
    }
   ],
   "source": [
    "# Create dataframes for only ford\n",
    "ford_df = df[df['Make']=='Ford']\n",
    "ford_df.info()"
   ]
  },
  {
   "cell_type": "code",
   "execution_count": 52,
   "metadata": {},
   "outputs": [
    {
     "name": "stdout",
     "output_type": "stream",
     "text": [
      "Number of unique values for Year: 22\n",
      "Number of unique values for State: 51\n",
      "Number of unique values for City: 2420\n",
      "Number of unique values for Model: 147\n"
     ]
    }
   ],
   "source": [
    "# Print unique values for categorical variables\n",
    "cat_vars = ['Year', 'State', 'City', 'Model']\n",
    "\n",
    "for var in cat_vars:\n",
    "    print(f'Number of unique values for {var}: {ford_df[var].nunique()}')"
   ]
  },
  {
   "cell_type": "code",
   "execution_count": 53,
   "metadata": {},
   "outputs": [],
   "source": [
    "base_models = ['Taurus', 'Focus', 'Fusion', 'Fiesta', 'Escape', 'Edge', 'Thunderbird', 'Ranger',\n",
    "              'Mustang', 'F-150', 'F-250', 'F-350', 'Explorer', 'Transit', 'Super', 'Expedition',\n",
    "              'Freestyle', 'Freestar', 'Escort', 'Crown', 'Windstar', 'Econoline', 'RangerEdge',\n",
    "              'Club', 'Contour', 'Flex', 'C-Max', 'E-Series', 'Excursion', 'ZX2', 'Five', 'GT']"
   ]
  },
  {
   "cell_type": "code",
   "execution_count": 54,
   "metadata": {},
   "outputs": [],
   "source": [
    "# Function to extract base model and features\n",
    "def extract_base_and_features(model):\n",
    "    for base_model in base_models:\n",
    "        if base_model in model:\n",
    "            base_len = len(base_model)\n",
    "            features = model[base_len:].strip()\n",
    "            return pd.Series([base_model, features if features else 'Regular'])\n",
    "    return pd.Series(['Unknown', model])\n",
    "\n",
    "# Apply the function to the Model column\n",
    "ford_df[['Base Model', 'Features']] = ford_df['Model'].apply(extract_base_and_features)"
   ]
  },
  {
   "cell_type": "code",
   "execution_count": 55,
   "metadata": {},
   "outputs": [],
   "source": [
    "# Cleaning up model names and features\n",
    "ford_df.loc[ford_df['Features'] == 'erEdge', 'Base Model'] = 'Ranger'\n",
    "ford_df['Features'][ford_df['Features'] == 'erEdge'] = 'Edge'\n",
    "\n",
    "# Ford E-Series vehicles are also known as Econoline\n",
    "ford_df['Base Model'][ford_df['Base Model'] == 'Econoline'] = 'E-Series'\n",
    "\n",
    "# F-250 and F-350 are both Ford F-Series Super Duty vehicles\n",
    "f_series = ['F-250', 'F-350']\n",
    "\n",
    "for f in f_series:\n",
    "    ford_df['Base Model'][ford_df['Base Model'] == f] = 'Super'"
   ]
  },
  {
   "cell_type": "code",
   "execution_count": 56,
   "metadata": {},
   "outputs": [
    {
     "data": {
      "text/plain": [
       "array(['Regular', 'SE', 'S', 'Sedan', 'Titanium', 'Hatchback', '4dr',\n",
       "       'Convertible', 'Coupe', '2WD', 'SEL', 'Base', 'Limited', 'XLT',\n",
       "       'Police', 'V6', '4WD', 'Sport', 'SHO', 'FX4', 'King', 'EL',\n",
       "       'SuperCrew', 'Hybrid', 'SuperCab', 'LTD', 'XL', 'FWD', 'Fastback',\n",
       "       'Shelby', '5dr', '2dr', 'XLS', 'SPORT', 'GT', 'SVT', 'RWD', 'AWD',\n",
       "       'Lariat', '2010', '3dr', 'Eddie', \"'07\", '5.4L', '4.6L', '137\"',\n",
       "       'Platinum', 'ST', 'EcoBoost', 'RS', 'Raptor', '2005', '119\"',\n",
       "       'Fleet', 'Edge', 'Cobra'], dtype=object)"
      ]
     },
     "execution_count": 56,
     "metadata": {},
     "output_type": "execute_result"
    }
   ],
   "source": [
    "ford_df['Features'].unique()"
   ]
  },
  {
   "cell_type": "code",
   "execution_count": 57,
   "metadata": {},
   "outputs": [
    {
     "data": {
      "text/plain": [
       "array(['Focus', 'Fusion', 'Fiesta', 'C-Max', 'Escape', 'Mustang', 'Edge',\n",
       "       'F-150', 'Explorer', 'Taurus', 'Super', 'E-Series', 'Transit',\n",
       "       'Flex', 'Expedition', 'Ranger', 'Five', 'Freestyle', 'Freestar',\n",
       "       'Crown', 'GT', 'Thunderbird', 'Excursion', 'ZX2', 'Windstar',\n",
       "       'Escort', 'Contour', 'Club'], dtype=object)"
      ]
     },
     "execution_count": 57,
     "metadata": {},
     "output_type": "execute_result"
    }
   ],
   "source": [
    "ford_df['Base Model'].unique()"
   ]
  },
  {
   "cell_type": "code",
   "execution_count": 58,
   "metadata": {},
   "outputs": [],
   "source": [
    "# Group states under Census Divisions\n",
    "ford_df['Division'] = ford_df['State'].apply(lambda x: 'New England' if x in ['ME', 'VT', 'NH', 'MA', 'RI', 'CT']\n",
    "                                 else 'Mid-Atlantic' if x in ['NY', 'NJ', 'PA']\n",
    "                                 else 'South Atlantic' if x in ['DC', 'DE', 'MD', 'VA','WV', 'NC', 'SC', 'GA', 'FL']\n",
    "                                 else 'East South Central' if x in ['KY', 'TN', 'AL', 'MS']\n",
    "                                 else 'West South Central' if x in ['AR', 'LA', 'OK', 'TX']\n",
    "                                 else 'East North Central' if x in ['OH', 'IN', 'IL', 'MI', 'WI']\n",
    "                                 else 'West North Central' if x in ['MN', 'IA', 'MO', 'ND', 'SD', 'NE', 'KS']\n",
    "                                 else 'Mountain' if x in ['MT', 'ID', 'WY', 'CO', 'NM', 'AZ', 'UT', 'NV']\n",
    "                                 else 'Pacific' if x in ['WA', 'OR', 'CA', 'AK', 'HI']\n",
    "                                 else None)"
   ]
  },
  {
   "cell_type": "code",
   "execution_count": 59,
   "metadata": {},
   "outputs": [
    {
     "data": {
      "text/html": [
       "<div>\n",
       "<style scoped>\n",
       "    .dataframe tbody tr th:only-of-type {\n",
       "        vertical-align: middle;\n",
       "    }\n",
       "\n",
       "    .dataframe tbody tr th {\n",
       "        vertical-align: top;\n",
       "    }\n",
       "\n",
       "    .dataframe thead th {\n",
       "        text-align: right;\n",
       "    }\n",
       "</style>\n",
       "<table border=\"1\" class=\"dataframe\">\n",
       "  <thead>\n",
       "    <tr style=\"text-align: right;\">\n",
       "      <th></th>\n",
       "      <th>Price</th>\n",
       "      <th>Year</th>\n",
       "      <th>Mileage</th>\n",
       "      <th>City</th>\n",
       "      <th>State</th>\n",
       "      <th>VIN</th>\n",
       "      <th>Make</th>\n",
       "      <th>Model</th>\n",
       "      <th>Country of Manufacture</th>\n",
       "      <th>Base Model</th>\n",
       "      <th>Features</th>\n",
       "      <th>Division</th>\n",
       "    </tr>\n",
       "  </thead>\n",
       "  <tbody>\n",
       "    <tr>\n",
       "      <th>43982</th>\n",
       "      <td>10995</td>\n",
       "      <td>2014</td>\n",
       "      <td>20403</td>\n",
       "      <td>Leavenworth</td>\n",
       "      <td>KS</td>\n",
       "      <td>1FADP3R41EL264375</td>\n",
       "      <td>Ford</td>\n",
       "      <td>Focus</td>\n",
       "      <td>US</td>\n",
       "      <td>Focus</td>\n",
       "      <td>Regular</td>\n",
       "      <td>West North Central</td>\n",
       "    </tr>\n",
       "    <tr>\n",
       "      <th>43983</th>\n",
       "      <td>11997</td>\n",
       "      <td>2014</td>\n",
       "      <td>18520</td>\n",
       "      <td>Spokane</td>\n",
       "      <td>WA</td>\n",
       "      <td>1FADP3R44EL350442</td>\n",
       "      <td>Ford</td>\n",
       "      <td>Focus</td>\n",
       "      <td>US</td>\n",
       "      <td>Focus</td>\n",
       "      <td>Regular</td>\n",
       "      <td>Pacific</td>\n",
       "    </tr>\n",
       "    <tr>\n",
       "      <th>43984</th>\n",
       "      <td>11990</td>\n",
       "      <td>2014</td>\n",
       "      <td>17738</td>\n",
       "      <td>Olympia</td>\n",
       "      <td>WA</td>\n",
       "      <td>1FADP3R40EL260009</td>\n",
       "      <td>Ford</td>\n",
       "      <td>Focus</td>\n",
       "      <td>US</td>\n",
       "      <td>Focus</td>\n",
       "      <td>Regular</td>\n",
       "      <td>Pacific</td>\n",
       "    </tr>\n",
       "    <tr>\n",
       "      <th>43985</th>\n",
       "      <td>10889</td>\n",
       "      <td>2014</td>\n",
       "      <td>29057</td>\n",
       "      <td>Marysville</td>\n",
       "      <td>WA</td>\n",
       "      <td>1FADP3R40EL237619</td>\n",
       "      <td>Ford</td>\n",
       "      <td>Focus</td>\n",
       "      <td>US</td>\n",
       "      <td>Focus</td>\n",
       "      <td>Regular</td>\n",
       "      <td>Pacific</td>\n",
       "    </tr>\n",
       "    <tr>\n",
       "      <th>43986</th>\n",
       "      <td>11995</td>\n",
       "      <td>2014</td>\n",
       "      <td>20335</td>\n",
       "      <td>Boise</td>\n",
       "      <td>ID</td>\n",
       "      <td>1FADP3R47EL249668</td>\n",
       "      <td>Ford</td>\n",
       "      <td>Focus</td>\n",
       "      <td>US</td>\n",
       "      <td>Focus</td>\n",
       "      <td>Regular</td>\n",
       "      <td>Mountain</td>\n",
       "    </tr>\n",
       "  </tbody>\n",
       "</table>\n",
       "</div>"
      ],
      "text/plain": [
       "       Price  Year  Mileage         City State                VIN  Make  \\\n",
       "43982  10995  2014    20403  Leavenworth    KS  1FADP3R41EL264375  Ford   \n",
       "43983  11997  2014    18520      Spokane    WA  1FADP3R44EL350442  Ford   \n",
       "43984  11990  2014    17738      Olympia    WA  1FADP3R40EL260009  Ford   \n",
       "43985  10889  2014    29057   Marysville    WA  1FADP3R40EL237619  Ford   \n",
       "43986  11995  2014    20335        Boise    ID  1FADP3R47EL249668  Ford   \n",
       "\n",
       "       Model Country of Manufacture Base Model Features            Division  \n",
       "43982  Focus                     US      Focus  Regular  West North Central  \n",
       "43983  Focus                     US      Focus  Regular             Pacific  \n",
       "43984  Focus                     US      Focus  Regular             Pacific  \n",
       "43985  Focus                     US      Focus  Regular             Pacific  \n",
       "43986  Focus                     US      Focus  Regular            Mountain  "
      ]
     },
     "execution_count": 59,
     "metadata": {},
     "output_type": "execute_result"
    }
   ],
   "source": [
    "ford_df.head()"
   ]
  },
  {
   "cell_type": "code",
   "execution_count": 60,
   "metadata": {},
   "outputs": [
    {
     "data": {
      "text/plain": [
       "Country of Manufacture\n",
       "US            0.778956\n",
       "Outside US    0.221044\n",
       "Name: proportion, dtype: float64"
      ]
     },
     "execution_count": 60,
     "metadata": {},
     "output_type": "execute_result"
    }
   ],
   "source": [
    "ford_df['Country of Manufacture'].value_counts(normalize=True)"
   ]
  },
  {
   "cell_type": "markdown",
   "metadata": {},
   "source": [
    "We previously saw that majority of cars listed (`53%`) were manufactured outside the US. We now see that for Ford vehicles the percentage is much higher. About `78%` of Ford vehicles listed were manufactured in the US."
   ]
  },
  {
   "cell_type": "code",
   "execution_count": 61,
   "metadata": {},
   "outputs": [
    {
     "data": {
      "image/png": "[encoded data removed]",
      "text/plain": [
       "<Figure size 640x480 with 1 Axes>"
      ]
     },
     "metadata": {},
     "output_type": "display_data"
    }
   ],
   "source": [
    "# Visualize top Ford models\n",
    "top_base_model = ford_df['Base Model'].value_counts().head(10)\n",
    "sns.barplot(x=top_base_model.values, y=top_base_model.index, palette='muted', saturation=0.95)\n",
    "plt.title('Top 10 Ford Base Models')\n",
    "plt.xlabel('Frequency')\n",
    "plt.ylabel('Ford Base Model')\n",
    "plt.tight_layout()\n",
    "plt.show()"
   ]
  },
  {
   "cell_type": "code",
   "execution_count": 62,
   "metadata": {},
   "outputs": [
    {
     "data": {
      "image/png": "[encoded data removed]",
      "text/plain": [
       "<Figure size 640x480 with 1 Axes>"
      ]
     },
     "metadata": {},
     "output_type": "display_data"
    }
   ],
   "source": [
    "# Visualize top features\n",
    "top_feats = ford_df['Features'].value_counts().head(10)\n",
    "sns.barplot(x=top_feats.values, y=top_feats.index, palette='muted', saturation=0.95)\n",
    "plt.title('Top 10 Features')\n",
    "plt.xlabel('Frequency')\n",
    "plt.ylabel('Feature')\n",
    "plt.tight_layout()\n",
    "plt.show()"
   ]
  },
  {
   "cell_type": "code",
   "execution_count": 63,
   "metadata": {},
   "outputs": [],
   "source": [
    "avg_prices = ford_df.groupby('Base Model')['Price'].mean().reset_index()\n",
    "\n",
    "# Get the top 5 most expensive and top 5 least expensive base models\n",
    "top_5_expensive = avg_prices.nlargest(5, 'Price')\n",
    "top_5_cheap = avg_prices.nsmallest(5, 'Price')"
   ]
  },
  {
   "cell_type": "code",
   "execution_count": 64,
   "metadata": {},
   "outputs": [
    {
     "data": {
      "image/png": "[encoded data removed]",
      "text/plain": [
       "<Figure size 640x480 with 1 Axes>"
      ]
     },
     "metadata": {},
     "output_type": "display_data"
    }
   ],
   "source": [
    "# View the most expensive\n",
    "sns.barplot(x=top_5_expensive['Base Model'], y=top_5_expensive['Price'], palette='muted', saturation=0.95)\n",
    "plt.title('Top 5 Expensive Models')\n",
    "plt.xlabel('Model')\n",
    "plt.ylabel('Average Price')\n",
    "plt.tight_layout()\n",
    "plt.show()"
   ]
  },
  {
   "cell_type": "markdown",
   "metadata": {},
   "source": [
    "The extremely high price of the Ford GT Supercar masks the differences in the average prices of the other models almost invisible. We can solve this problem by removing these listings from the dataset. The Ford GT is specifically designed for high speed racing, and only a few of them are built. Removing these observations is therefore not likely to affect the data and the results."
   ]
  },
  {
   "cell_type": "code",
   "execution_count": 65,
   "metadata": {},
   "outputs": [
    {
     "data": {
      "text/html": [
       "<div>\n",
       "<style scoped>\n",
       "    .dataframe tbody tr th:only-of-type {\n",
       "        vertical-align: middle;\n",
       "    }\n",
       "\n",
       "    .dataframe tbody tr th {\n",
       "        vertical-align: top;\n",
       "    }\n",
       "\n",
       "    .dataframe thead th {\n",
       "        text-align: right;\n",
       "    }\n",
       "</style>\n",
       "<table border=\"1\" class=\"dataframe\">\n",
       "  <thead>\n",
       "    <tr style=\"text-align: right;\">\n",
       "      <th></th>\n",
       "      <th>Price</th>\n",
       "      <th>Year</th>\n",
       "      <th>Mileage</th>\n",
       "      <th>City</th>\n",
       "      <th>State</th>\n",
       "      <th>VIN</th>\n",
       "      <th>Make</th>\n",
       "      <th>Model</th>\n",
       "      <th>Country of Manufacture</th>\n",
       "      <th>Base Model</th>\n",
       "      <th>Features</th>\n",
       "      <th>Division</th>\n",
       "    </tr>\n",
       "  </thead>\n",
       "  <tbody>\n",
       "    <tr>\n",
       "      <th>690655</th>\n",
       "      <td>279900</td>\n",
       "      <td>2006</td>\n",
       "      <td>4327</td>\n",
       "      <td>Spring</td>\n",
       "      <td>TX</td>\n",
       "      <td>1FAFP90S76Y400391</td>\n",
       "      <td>Ford</td>\n",
       "      <td>GT2dr</td>\n",
       "      <td>US</td>\n",
       "      <td>GT</td>\n",
       "      <td>2dr</td>\n",
       "      <td>West South Central</td>\n",
       "    </tr>\n",
       "    <tr>\n",
       "      <th>690656</th>\n",
       "      <td>279500</td>\n",
       "      <td>2006</td>\n",
       "      <td>5730</td>\n",
       "      <td>West Palm Beach</td>\n",
       "      <td>FL</td>\n",
       "      <td>1FAFP90S06Y401043</td>\n",
       "      <td>Ford</td>\n",
       "      <td>GT2dr</td>\n",
       "      <td>US</td>\n",
       "      <td>GT</td>\n",
       "      <td>2dr</td>\n",
       "      <td>South Atlantic</td>\n",
       "    </tr>\n",
       "    <tr>\n",
       "      <th>690657</th>\n",
       "      <td>289888</td>\n",
       "      <td>2006</td>\n",
       "      <td>5248</td>\n",
       "      <td>New York</td>\n",
       "      <td>NY</td>\n",
       "      <td>1FAFP90S66Y400981</td>\n",
       "      <td>Ford</td>\n",
       "      <td>GT2dr</td>\n",
       "      <td>US</td>\n",
       "      <td>GT</td>\n",
       "      <td>2dr</td>\n",
       "      <td>Mid-Atlantic</td>\n",
       "    </tr>\n",
       "    <tr>\n",
       "      <th>690658</th>\n",
       "      <td>299800</td>\n",
       "      <td>2006</td>\n",
       "      <td>3950</td>\n",
       "      <td>Freeport</td>\n",
       "      <td>NY</td>\n",
       "      <td>1FAFP90S46Y400820</td>\n",
       "      <td>Ford</td>\n",
       "      <td>GT2dr</td>\n",
       "      <td>US</td>\n",
       "      <td>GT</td>\n",
       "      <td>2dr</td>\n",
       "      <td>Mid-Atlantic</td>\n",
       "    </tr>\n",
       "    <tr>\n",
       "      <th>690659</th>\n",
       "      <td>399888</td>\n",
       "      <td>2006</td>\n",
       "      <td>6215</td>\n",
       "      <td>Boerne</td>\n",
       "      <td>TX</td>\n",
       "      <td>1FAFP90S36Y400291</td>\n",
       "      <td>Ford</td>\n",
       "      <td>GT2dr</td>\n",
       "      <td>US</td>\n",
       "      <td>GT</td>\n",
       "      <td>2dr</td>\n",
       "      <td>West South Central</td>\n",
       "    </tr>\n",
       "    <tr>\n",
       "      <th>690660</th>\n",
       "      <td>399999</td>\n",
       "      <td>2006</td>\n",
       "      <td>3900</td>\n",
       "      <td>Jamaica</td>\n",
       "      <td>NY</td>\n",
       "      <td>1FAFP90S86Y401100</td>\n",
       "      <td>Ford</td>\n",
       "      <td>GT2dr</td>\n",
       "      <td>US</td>\n",
       "      <td>GT</td>\n",
       "      <td>2dr</td>\n",
       "      <td>Mid-Atlantic</td>\n",
       "    </tr>\n",
       "    <tr>\n",
       "      <th>828654</th>\n",
       "      <td>279888</td>\n",
       "      <td>2005</td>\n",
       "      <td>2973</td>\n",
       "      <td>Boerne</td>\n",
       "      <td>TX</td>\n",
       "      <td>1FAFP90SX5Y401548</td>\n",
       "      <td>Ford</td>\n",
       "      <td>GT2dr</td>\n",
       "      <td>US</td>\n",
       "      <td>GT</td>\n",
       "      <td>2dr</td>\n",
       "      <td>West South Central</td>\n",
       "    </tr>\n",
       "    <tr>\n",
       "      <th>828655</th>\n",
       "      <td>299999</td>\n",
       "      <td>2005</td>\n",
       "      <td>8718</td>\n",
       "      <td>Vista</td>\n",
       "      <td>CA</td>\n",
       "      <td>1FAFP90S35Y401617</td>\n",
       "      <td>Ford</td>\n",
       "      <td>GT2dr</td>\n",
       "      <td>US</td>\n",
       "      <td>GT</td>\n",
       "      <td>2dr</td>\n",
       "      <td>Pacific</td>\n",
       "    </tr>\n",
       "    <tr>\n",
       "      <th>828656</th>\n",
       "      <td>299000</td>\n",
       "      <td>2005</td>\n",
       "      <td>4479</td>\n",
       "      <td>Westville</td>\n",
       "      <td>NJ</td>\n",
       "      <td>1FAFP90S15Y401390</td>\n",
       "      <td>Ford</td>\n",
       "      <td>GT2dr</td>\n",
       "      <td>US</td>\n",
       "      <td>GT</td>\n",
       "      <td>2dr</td>\n",
       "      <td>Mid-Atlantic</td>\n",
       "    </tr>\n",
       "  </tbody>\n",
       "</table>\n",
       "</div>"
      ],
      "text/plain": [
       "         Price  Year  Mileage             City State                VIN  Make  \\\n",
       "690655  279900  2006     4327           Spring    TX  1FAFP90S76Y400391  Ford   \n",
       "690656  279500  2006     5730  West Palm Beach    FL  1FAFP90S06Y401043  Ford   \n",
       "690657  289888  2006     5248         New York    NY  1FAFP90S66Y400981  Ford   \n",
       "690658  299800  2006     3950         Freeport    NY  1FAFP90S46Y400820  Ford   \n",
       "690659  399888  2006     6215           Boerne    TX  1FAFP90S36Y400291  Ford   \n",
       "690660  399999  2006     3900          Jamaica    NY  1FAFP90S86Y401100  Ford   \n",
       "828654  279888  2005     2973           Boerne    TX  1FAFP90SX5Y401548  Ford   \n",
       "828655  299999  2005     8718            Vista    CA  1FAFP90S35Y401617  Ford   \n",
       "828656  299000  2005     4479        Westville    NJ  1FAFP90S15Y401390  Ford   \n",
       "\n",
       "        Model Country of Manufacture Base Model Features            Division  \n",
       "690655  GT2dr                     US         GT      2dr  West South Central  \n",
       "690656  GT2dr                     US         GT      2dr      South Atlantic  \n",
       "690657  GT2dr                     US         GT      2dr        Mid-Atlantic  \n",
       "690658  GT2dr                     US         GT      2dr        Mid-Atlantic  \n",
       "690659  GT2dr                     US         GT      2dr  West South Central  \n",
       "690660  GT2dr                     US         GT      2dr        Mid-Atlantic  \n",
       "828654  GT2dr                     US         GT      2dr  West South Central  \n",
       "828655  GT2dr                     US         GT      2dr             Pacific  \n",
       "828656  GT2dr                     US         GT      2dr        Mid-Atlantic  "
      ]
     },
     "execution_count": 65,
     "metadata": {},
     "output_type": "execute_result"
    }
   ],
   "source": [
    "# Show Ford GT listings in the data\n",
    "ford_df[ford_df['Base Model']=='GT']\n"
   ]
  },
  {
   "cell_type": "code",
   "execution_count": 66,
   "metadata": {},
   "outputs": [
    {
     "data": {
      "text/plain": [
       "(110390, 12)"
      ]
     },
     "execution_count": 66,
     "metadata": {},
     "output_type": "execute_result"
    }
   ],
   "source": [
    "# Drop all Ford GT listings\n",
    "ford_df = ford_df.drop(ford_df[ford_df['Base Model']=='GT'].index)\n",
    "ford_df.shape"
   ]
  },
  {
   "cell_type": "code",
   "execution_count": 67,
   "metadata": {},
   "outputs": [
    {
     "data": {
      "image/png": "[encoded data removed]",
      "text/plain": [
       "<Figure size 640x480 with 1 Axes>"
      ]
     },
     "metadata": {},
     "output_type": "display_data"
    }
   ],
   "source": [
    "# Get the average price per base model\n",
    "avg_prices = ford_df.groupby('Base Model')['Price'].mean().reset_index()\n",
    "\n",
    "# Get the top 5 most expensive base models again\n",
    "top_5_expensive = avg_prices.nlargest(5, 'Price')\n",
    "\n",
    "# View the most expensive\n",
    "sns.barplot(x=top_5_expensive['Base Model'], y=top_5_expensive['Price'], palette='muted', saturation=0.95)\n",
    "plt.title('Top 5 Expensive Models')\n",
    "plt.xlabel('Model')\n",
    "plt.ylabel('Average Price')\n",
    "plt.tight_layout()\n",
    "plt.show()"
   ]
  },
  {
   "cell_type": "code",
   "execution_count": 68,
   "metadata": {},
   "outputs": [
    {
     "data": {
      "image/png": "[encoded data removed]",
      "text/plain": [
       "<Figure size 640x480 with 1 Axes>"
      ]
     },
     "metadata": {},
     "output_type": "display_data"
    }
   ],
   "source": [
    "# View the cheapest models\n",
    "sns.barplot(x=top_5_cheap['Base Model'], y=top_5_cheap['Price'], palette='muted', saturation=0.95)\n",
    "plt.title('Top 5 Cheap Models')\n",
    "plt.xlabel('Model')\n",
    "plt.ylabel('Average Price')\n",
    "plt.tight_layout()\n",
    "plt.show()"
   ]
  },
  {
   "cell_type": "markdown",
   "metadata": {},
   "source": [
    "We now see that the most expensive vehicles are the Ford Super Duty truck (*F-250*, *F-350*, *F-450*) and the *F-150*. These are trucks that many times are used for heavy duty towing. The *Expedition* and *Explorer* are also SUVs and therefore generally have higher prices. The cheapest models are all older ones that are currently no longer produced by Ford."
   ]
  },
  {
   "cell_type": "markdown",
   "metadata": {},
   "source": [
    "## **Modelling**"
   ]
  },
  {
   "cell_type": "code",
   "execution_count": 69,
   "metadata": {},
   "outputs": [
    {
     "data": {
      "text/html": [
       "<div>\n",
       "<style scoped>\n",
       "    .dataframe tbody tr th:only-of-type {\n",
       "        vertical-align: middle;\n",
       "    }\n",
       "\n",
       "    .dataframe tbody tr th {\n",
       "        vertical-align: top;\n",
       "    }\n",
       "\n",
       "    .dataframe thead th {\n",
       "        text-align: right;\n",
       "    }\n",
       "</style>\n",
       "<table border=\"1\" class=\"dataframe\">\n",
       "  <thead>\n",
       "    <tr style=\"text-align: right;\">\n",
       "      <th></th>\n",
       "      <th>Price</th>\n",
       "      <th>Year</th>\n",
       "      <th>Mileage</th>\n",
       "      <th>State</th>\n",
       "      <th>Country of Manufacture</th>\n",
       "      <th>Base Model</th>\n",
       "      <th>Features</th>\n",
       "      <th>Division</th>\n",
       "    </tr>\n",
       "  </thead>\n",
       "  <tbody>\n",
       "    <tr>\n",
       "      <th>43982</th>\n",
       "      <td>10995</td>\n",
       "      <td>2014</td>\n",
       "      <td>20403</td>\n",
       "      <td>KS</td>\n",
       "      <td>US</td>\n",
       "      <td>Focus</td>\n",
       "      <td>Regular</td>\n",
       "      <td>West North Central</td>\n",
       "    </tr>\n",
       "    <tr>\n",
       "      <th>43983</th>\n",
       "      <td>11997</td>\n",
       "      <td>2014</td>\n",
       "      <td>18520</td>\n",
       "      <td>WA</td>\n",
       "      <td>US</td>\n",
       "      <td>Focus</td>\n",
       "      <td>Regular</td>\n",
       "      <td>Pacific</td>\n",
       "    </tr>\n",
       "    <tr>\n",
       "      <th>43984</th>\n",
       "      <td>11990</td>\n",
       "      <td>2014</td>\n",
       "      <td>17738</td>\n",
       "      <td>WA</td>\n",
       "      <td>US</td>\n",
       "      <td>Focus</td>\n",
       "      <td>Regular</td>\n",
       "      <td>Pacific</td>\n",
       "    </tr>\n",
       "    <tr>\n",
       "      <th>43985</th>\n",
       "      <td>10889</td>\n",
       "      <td>2014</td>\n",
       "      <td>29057</td>\n",
       "      <td>WA</td>\n",
       "      <td>US</td>\n",
       "      <td>Focus</td>\n",
       "      <td>Regular</td>\n",
       "      <td>Pacific</td>\n",
       "    </tr>\n",
       "    <tr>\n",
       "      <th>43986</th>\n",
       "      <td>11995</td>\n",
       "      <td>2014</td>\n",
       "      <td>20335</td>\n",
       "      <td>ID</td>\n",
       "      <td>US</td>\n",
       "      <td>Focus</td>\n",
       "      <td>Regular</td>\n",
       "      <td>Mountain</td>\n",
       "    </tr>\n",
       "  </tbody>\n",
       "</table>\n",
       "</div>"
      ],
      "text/plain": [
       "       Price  Year  Mileage State Country of Manufacture Base Model Features  \\\n",
       "43982  10995  2014    20403    KS                     US      Focus  Regular   \n",
       "43983  11997  2014    18520    WA                     US      Focus  Regular   \n",
       "43984  11990  2014    17738    WA                     US      Focus  Regular   \n",
       "43985  10889  2014    29057    WA                     US      Focus  Regular   \n",
       "43986  11995  2014    20335    ID                     US      Focus  Regular   \n",
       "\n",
       "                 Division  \n",
       "43982  West North Central  \n",
       "43983             Pacific  \n",
       "43984             Pacific  \n",
       "43985             Pacific  \n",
       "43986            Mountain  "
      ]
     },
     "execution_count": 69,
     "metadata": {},
     "output_type": "execute_result"
    }
   ],
   "source": [
    "# Drop 'Make', 'Model', and 'City' since will no longer need them\n",
    "ford_df = ford_df.drop(columns=['Make', 'Model', 'City', 'VIN'])\n",
    "ford_df.head()"
   ]
  },
  {
   "cell_type": "code",
   "execution_count": 70,
   "metadata": {},
   "outputs": [],
   "source": [
    "ford_df.to_csv('used_cars3.csv')"
   ]
  },
  {
   "cell_type": "code",
   "execution_count": 71,
   "metadata": {},
   "outputs": [
    {
     "data": {
      "text/plain": [
       "(110390, 8)"
      ]
     },
     "execution_count": 71,
     "metadata": {},
     "output_type": "execute_result"
    }
   ],
   "source": [
    "ford_df.shape"
   ]
  },
  {
   "cell_type": "code",
   "execution_count": 72,
   "metadata": {},
   "outputs": [
    {
     "data": {
      "text/plain": [
       "(110390, 198)"
      ]
     },
     "execution_count": 72,
     "metadata": {},
     "output_type": "execute_result"
    }
   ],
   "source": [
    "# Encoding categorical variables\n",
    "ford_df = pd.get_dummies(ford_df, columns=['Division', 'State', 'Features', 'Base Model', \n",
    "                                           'Features', 'Country of Manufacture'], drop_first=True)\n",
    "\n",
    "# Check shape\n",
    "ford_df.shape"
   ]
  },
  {
   "cell_type": "code",
   "execution_count": 73,
   "metadata": {},
   "outputs": [
    {
     "data": {
      "text/plain": [
       "Index(['Features_119\"', 'Features_137\"', 'Features_2005', 'Features_2010',\n",
       "       'Features_2WD', 'Features_2dr', 'Features_3dr', 'Features_4.6L',\n",
       "       'Features_4WD', 'Features_4dr', 'Features_5.4L', 'Features_5dr',\n",
       "       'Features_AWD', 'Features_Base', 'Features_Cobra',\n",
       "       'Features_Convertible', 'Features_Coupe', 'Features_EL',\n",
       "       'Features_EcoBoost', 'Features_Eddie', 'Features_Edge', 'Features_FWD',\n",
       "       'Features_FX4', 'Features_Fastback', 'Features_Fleet', 'Features_GT',\n",
       "       'Features_Hatchback', 'Features_Hybrid', 'Features_King',\n",
       "       'Features_LTD', 'Features_Lariat', 'Features_Limited',\n",
       "       'Features_Platinum', 'Features_Police', 'Features_RS', 'Features_RWD',\n",
       "       'Features_Raptor', 'Features_Regular', 'Features_S', 'Features_SE',\n",
       "       'Features_SEL', 'Features_SHO', 'Features_SPORT', 'Features_ST',\n",
       "       'Features_SVT', 'Features_Sedan', 'Features_Shelby', 'Features_Sport',\n",
       "       'Features_SuperCab', 'Features_SuperCrew', 'Features_Titanium',\n",
       "       'Features_V6', 'Features_XL', 'Features_XLS', 'Features_XLT'],\n",
       "      dtype='object')"
      ]
     },
     "execution_count": 73,
     "metadata": {},
     "output_type": "execute_result"
    }
   ],
   "source": [
    "# Identify duplicate columns\n",
    "duplicate_columns = ford_df.columns[ford_df.columns.duplicated()]\n",
    "duplicate_columns"
   ]
  },
  {
   "cell_type": "code",
   "execution_count": 74,
   "metadata": {},
   "outputs": [
    {
     "data": {
      "text/plain": [
       "(110390, 143)"
      ]
     },
     "execution_count": 74,
     "metadata": {},
     "output_type": "execute_result"
    }
   ],
   "source": [
    "# Drop duplicate columns\n",
    "ford_df = ford_df.loc[:,~ford_df.columns.duplicated()]\n",
    "ford_df.shape"
   ]
  },
  {
   "cell_type": "code",
   "execution_count": 49,
   "metadata": {},
   "outputs": [],
   "source": [
    "# import required libraries\n",
    "from sklearn.linear_model import LinearRegression\n",
    "from sklearn.tree import DecisionTreeRegressor\n",
    "from sklearn.ensemble import RandomForestRegressor\n",
    "from xgboost import XGBRegressor\n",
    "from sklearn.metrics import mean_absolute_error, mean_squared_error, r2_score\n",
    "from sklearn.model_selection import cross_val_score, cross_val_predict\n",
    "from sklearn.model_selection import GridSearchCV \n",
    "from sklearn.model_selection import train_test_split"
   ]
  },
  {
   "cell_type": "code",
   "execution_count": 50,
   "metadata": {},
   "outputs": [],
   "source": [
    "# Take logarithm of 'Price'\n",
    "ford_df['log_Price'] = np.log(ford_df['Price'])\n",
    "\n",
    "# Splitting the dataset into training and testing sets\n",
    "X = ford_df.drop(['Price', 'log_Price'], axis=1)\n",
    "y = ford_df['log_Price']\n",
    "\n",
    "X_train, X_test, y_train, y_test = train_test_split(X, y, test_size=0.3, random_state=42)"
   ]
  },
  {
   "cell_type": "markdown",
   "metadata": {},
   "source": [
    "### **Linear Regression**"
   ]
  },
  {
   "cell_type": "code",
   "execution_count": 51,
   "metadata": {},
   "outputs": [
    {
     "name": "stdout",
     "output_type": "stream",
     "text": [
      "The Mean Average Error(MAE) is:  0.13333403094820803\n",
      "The Mean Square Error(MSE) is:  0.035218831186909307\n",
      "The Root Mean Square Error(RMSE) is:  0.18766680896447646\n",
      "The R Square is:  0.8839719454915087\n"
     ]
    },
    {
     "data": {
      "text/html": [
       "<div>\n",
       "<style scoped>\n",
       "    .dataframe tbody tr th:only-of-type {\n",
       "        vertical-align: middle;\n",
       "    }\n",
       "\n",
       "    .dataframe tbody tr th {\n",
       "        vertical-align: top;\n",
       "    }\n",
       "\n",
       "    .dataframe thead th {\n",
       "        text-align: right;\n",
       "    }\n",
       "</style>\n",
       "<table border=\"1\" class=\"dataframe\">\n",
       "  <thead>\n",
       "    <tr style=\"text-align: right;\">\n",
       "      <th></th>\n",
       "      <th>Actual</th>\n",
       "      <th>Predicted</th>\n",
       "    </tr>\n",
       "  </thead>\n",
       "  <tbody>\n",
       "    <tr>\n",
       "      <th>319674</th>\n",
       "      <td>10.397177</td>\n",
       "      <td>10.550096</td>\n",
       "    </tr>\n",
       "    <tr>\n",
       "      <th>276338</th>\n",
       "      <td>9.849031</td>\n",
       "      <td>10.003302</td>\n",
       "    </tr>\n",
       "    <tr>\n",
       "      <th>284173</th>\n",
       "      <td>9.471781</td>\n",
       "      <td>9.554194</td>\n",
       "    </tr>\n",
       "    <tr>\n",
       "      <th>338341</th>\n",
       "      <td>10.033507</td>\n",
       "      <td>10.048962</td>\n",
       "    </tr>\n",
       "    <tr>\n",
       "      <th>297660</th>\n",
       "      <td>10.106428</td>\n",
       "      <td>10.048104</td>\n",
       "    </tr>\n",
       "    <tr>\n",
       "      <th>285041</th>\n",
       "      <td>9.695848</td>\n",
       "      <td>9.677897</td>\n",
       "    </tr>\n",
       "    <tr>\n",
       "      <th>331680</th>\n",
       "      <td>10.118397</td>\n",
       "      <td>10.194182</td>\n",
       "    </tr>\n",
       "    <tr>\n",
       "      <th>247536</th>\n",
       "      <td>9.740910</td>\n",
       "      <td>9.677196</td>\n",
       "    </tr>\n",
       "    <tr>\n",
       "      <th>327431</th>\n",
       "      <td>10.449613</td>\n",
       "      <td>10.385832</td>\n",
       "    </tr>\n",
       "    <tr>\n",
       "      <th>339993</th>\n",
       "      <td>10.373335</td>\n",
       "      <td>10.623609</td>\n",
       "    </tr>\n",
       "  </tbody>\n",
       "</table>\n",
       "</div>"
      ],
      "text/plain": [
       "           Actual  Predicted\n",
       "319674  10.397177  10.550096\n",
       "276338   9.849031  10.003302\n",
       "284173   9.471781   9.554194\n",
       "338341  10.033507  10.048962\n",
       "297660  10.106428  10.048104\n",
       "285041   9.695848   9.677897\n",
       "331680  10.118397  10.194182\n",
       "247536   9.740910   9.677196\n",
       "327431  10.449613  10.385832\n",
       "339993  10.373335  10.623609"
      ]
     },
     "execution_count": 51,
     "metadata": {},
     "output_type": "execute_result"
    }
   ],
   "source": [
    "# Initializing the model\n",
    "model = LinearRegression()\n",
    "\n",
    "# Training the model\n",
    "model.fit(X_train, y_train)\n",
    "\n",
    "# Predicting the values for the testing data\n",
    "y_pred = model.predict(X_test)\n",
    "\n",
    "# Evaluating the model\n",
    "mae = mean_absolute_error(y_test, y_pred)\n",
    "mse = mean_squared_error(y_test, y_pred)\n",
    "rmse = np.sqrt(mse)\n",
    "r2 = r2_score(y_test, y_pred)\n",
    "\n",
    "# Creating a DataFrame for actual vs predicted values\n",
    "results_df = pd.DataFrame({'Actual': y_test, 'Predicted': y_pred})\n",
    "\n",
    "# Displaying the evaluation metrics and the first few rows of the results DataFrame\n",
    "print('The Mean Average Error(MAE) is: ', mae)\n",
    "print('The Mean Square Error(MSE) is: ', mse)\n",
    "print('The Root Mean Square Error(RMSE) is: ', rmse)\n",
    "print('The R Square is: ', r2)\n",
    "\n",
    "results_df.head(10)"
   ]
  },
  {
   "cell_type": "code",
   "execution_count": 52,
   "metadata": {},
   "outputs": [
    {
     "data": {
      "text/html": [
       "<div>\n",
       "<style scoped>\n",
       "    .dataframe tbody tr th:only-of-type {\n",
       "        vertical-align: middle;\n",
       "    }\n",
       "\n",
       "    .dataframe tbody tr th {\n",
       "        vertical-align: top;\n",
       "    }\n",
       "\n",
       "    .dataframe thead th {\n",
       "        text-align: right;\n",
       "    }\n",
       "</style>\n",
       "<table border=\"1\" class=\"dataframe\">\n",
       "  <thead>\n",
       "    <tr style=\"text-align: right;\">\n",
       "      <th></th>\n",
       "      <th>Actual</th>\n",
       "      <th>Predicted</th>\n",
       "    </tr>\n",
       "  </thead>\n",
       "  <tbody>\n",
       "    <tr>\n",
       "      <th>319674</th>\n",
       "      <td>32767.0</td>\n",
       "      <td>38181.121085</td>\n",
       "    </tr>\n",
       "    <tr>\n",
       "      <th>276338</th>\n",
       "      <td>18940.0</td>\n",
       "      <td>22099.318510</td>\n",
       "    </tr>\n",
       "    <tr>\n",
       "      <th>284173</th>\n",
       "      <td>12988.0</td>\n",
       "      <td>14103.723288</td>\n",
       "    </tr>\n",
       "    <tr>\n",
       "      <th>338341</th>\n",
       "      <td>22777.0</td>\n",
       "      <td>23131.758068</td>\n",
       "    </tr>\n",
       "    <tr>\n",
       "      <th>297660</th>\n",
       "      <td>24500.0</td>\n",
       "      <td>23111.914147</td>\n",
       "    </tr>\n",
       "    <tr>\n",
       "      <th>285041</th>\n",
       "      <td>16250.0</td>\n",
       "      <td>15960.900158</td>\n",
       "    </tr>\n",
       "    <tr>\n",
       "      <th>331680</th>\n",
       "      <td>24795.0</td>\n",
       "      <td>26747.116910</td>\n",
       "    </tr>\n",
       "    <tr>\n",
       "      <th>247536</th>\n",
       "      <td>16999.0</td>\n",
       "      <td>15949.709737</td>\n",
       "    </tr>\n",
       "    <tr>\n",
       "      <th>327431</th>\n",
       "      <td>34531.0</td>\n",
       "      <td>32397.344667</td>\n",
       "    </tr>\n",
       "    <tr>\n",
       "      <th>339993</th>\n",
       "      <td>31995.0</td>\n",
       "      <td>41093.637808</td>\n",
       "    </tr>\n",
       "  </tbody>\n",
       "</table>\n",
       "</div>"
      ],
      "text/plain": [
       "         Actual     Predicted\n",
       "319674  32767.0  38181.121085\n",
       "276338  18940.0  22099.318510\n",
       "284173  12988.0  14103.723288\n",
       "338341  22777.0  23131.758068\n",
       "297660  24500.0  23111.914147\n",
       "285041  16250.0  15960.900158\n",
       "331680  24795.0  26747.116910\n",
       "247536  16999.0  15949.709737\n",
       "327431  34531.0  32397.344667\n",
       "339993  31995.0  41093.637808"
      ]
     },
     "execution_count": 52,
     "metadata": {},
     "output_type": "execute_result"
    }
   ],
   "source": [
    "# Convert the log-transformed predictions back to the original scale\n",
    "results_df['Actual'] = np.exp(results_df['Actual'])\n",
    "results_df['Predicted'] = np.exp(results_df['Predicted'])\n",
    "\n",
    "# Display the DataFrame to compare actual and predicted values in their original scale\n",
    "results_df.head(10)"
   ]
  },
  {
   "cell_type": "code",
   "execution_count": 53,
   "metadata": {},
   "outputs": [
    {
     "data": {
      "image/png": "[encoded data removed]",
      "text/plain": [
       "<Figure size 1400x600 with 1 Axes>"
      ]
     },
     "metadata": {},
     "output_type": "display_data"
    },
    {
     "data": {
      "image/png": "[encoded data removed]",
      "text/plain": [
       "<Figure size 1400x600 with 1 Axes>"
      ]
     },
     "metadata": {},
     "output_type": "display_data"
    },
    {
     "data": {
      "image/png": "[encoded data removed]",
      "text/plain": [
       "<Figure size 1400x600 with 1 Axes>"
      ]
     },
     "metadata": {},
     "output_type": "display_data"
    }
   ],
   "source": [
    "# Now we'll plot the actual vs. predicted values and check the distribution of residuals to assess the model fit.\n",
    "\n",
    "# Transforming predictions back to the original scale\n",
    "y_pred_original = np.exp(y_pred)\n",
    "y_test_original = np.exp(y_test)\n",
    "\n",
    "# Plotting actual vs. predicted values\n",
    "plt.figure(figsize=(14, 6))\n",
    "plt.scatter(y_test_original, y_pred_original, color='blue', alpha=0.6)\n",
    "plt.plot([y_test_original.min(), y_test_original.max()], [y_test_original.min(), y_test_original.max()], 'k--', lw=2)\n",
    "plt.xlabel('Actual')\n",
    "plt.ylabel('Predicted')\n",
    "plt.title('Actual vs. Predicted Values')\n",
    "plt.show()\n",
    "\n",
    "# Calculating the residuals\n",
    "residuals = y_test_original - y_pred_original\n",
    "\n",
    "# Plotting the residuals distribution\n",
    "plt.figure(figsize=(14, 6))\n",
    "sns.histplot(residuals, kde=True, bins=30, color='skyblue')\n",
    "plt.xlabel('Residuals')\n",
    "plt.title('Distribution of Residuals')\n",
    "plt.show()\n",
    "\n",
    "# Scatterplot of residuals versus predicted values\n",
    "plt.figure(figsize=(14, 6))\n",
    "sns.scatterplot(x=y_pred_original, y=residuals, color='red')\n",
    "plt.xlabel('Predicted')\n",
    "plt.ylabel('Residuals')\n",
    "plt.axhline(y=0, color='black', linestyle='--')\n",
    "plt.title('Residuals vs. Predicted Values')\n",
    "plt.show()\n"
   ]
  },
  {
   "cell_type": "markdown",
   "metadata": {},
   "source": [
    "- The first plot shows the actual vs. predicted values. We'd like to see the points along the diagonal line, indicating that the predicted values are close to the actual values. While there is some scatter, many points do lie near the line, which is positive.\n",
    "\n",
    "- The second plot shows the distribution of residuals (the differences between actual and predicted values). We're looking for a normal distribution centered around zero. The histogram suggests that the residuals are fairly normally distributed, but there might be a slight skewness to the right.\n",
    "\n",
    "- The third plot shows residuals vs. predicted values. Ideally, the residuals should be randomly scattered around the horizontal line at zero, with no discernible pattern. This plot indicates a fairly random distribution, suggesting that the model's variance is constant across different predicted values, a sign of homoscedasticity, i.e., the size of the error does not change across different values of the independent variables. A model exhibiting homoscedasticity is likely to have better predictive performance and provides more reliable insights into how the predictors influence the response variable.\n"
   ]
  },
  {
   "cell_type": "markdown",
   "metadata": {},
   "source": [
    "## **Decision Tree Regressions**"
   ]
  },
  {
   "cell_type": "code",
   "execution_count": 54,
   "metadata": {},
   "outputs": [
    {
     "name": "stdout",
     "output_type": "stream",
     "text": [
      "Fitting 5 folds for each of 6 candidates, totalling 30 fits\n",
      "Best Parameters: {'criterion': 'squared_error', 'max_depth': 8, 'splitter': 'best'}\n",
      "The Mean Average Error(MAE) is:  0.1701684356514859\n",
      "The Mean Square Error(MSE) is:  0.05436731123741402\n",
      "The Root Mean Square Error(RMSE) is:  0.23316798930688154\n",
      "The R Square is:  0.8208874872008958\n"
     ]
    }
   ],
   "source": [
    "# Initialize the DecisionTreeRegressor\n",
    "reg_dt = DecisionTreeRegressor(random_state=42)\n",
    "\n",
    "# Define the grid of hyperparameters to search over\n",
    "param_grid = {\n",
    "    'max_depth': [4,6,8],\n",
    "    'criterion': ['squared_error'],\n",
    "    'splitter': ['best', 'random'],\n",
    "}\n",
    "\n",
    "# Set up the GridSearchCV with the DecisionTreeRegressor and defined parameters\n",
    "tree_reg = GridSearchCV(reg_dt, param_grid=param_grid, cv=5, verbose=True, n_jobs=-1)\n",
    "\n",
    "# Fit the GridSearchCV to the training data to find the best hyperparameters\n",
    "tree_reg.fit(X_train, y_train)\n",
    "\n",
    "y_pred = tree_reg.predict(X_test)\n",
    "\n",
    "# Evaluating the model\n",
    "mae = mean_absolute_error(y_test, y_pred)\n",
    "mse = mean_squared_error(y_test, y_pred)\n",
    "rmse = np.sqrt(mse)\n",
    "r2 = r2_score(y_test, y_pred)\n",
    "\n",
    "# Displaying the evaluation metrics and the first few rows of the results DataFrame\n",
    "print('Best Parameters: ' + str(tree_reg.best_params_))\n",
    "print('The Mean Average Error(MAE) is: ', mae)\n",
    "print('The Mean Square Error(MSE) is: ', mse)\n",
    "print('The Root Mean Square Error(RMSE) is: ', rmse)\n",
    "print('The R Square is: ', r2)"
   ]
  },
  {
   "cell_type": "markdown",
   "metadata": {},
   "source": [
    "## **Extreme Gradient Boosting**"
   ]
  },
  {
   "cell_type": "code",
   "execution_count": 55,
   "metadata": {},
   "outputs": [
    {
     "name": "stdout",
     "output_type": "stream",
     "text": [
      "The Mean Average Error(MAE) is:  0.11739557992405812\n",
      "The Mean Square Error(MSE) is:  0.02775185827723472\n",
      "The Root Mean Square Error(RMSE) is:  0.16658889001741597\n",
      "The R Square is:  0.9085718061506887\n"
     ]
    }
   ],
   "source": [
    "# Initializing the XGBoost classifier\n",
    "xgb_reg = XGBRegressor(objective ='reg:squarederror', \n",
    "                       n_estimators=1000, \n",
    "                       max_depth=7, eta=0.1, \n",
    "                       subsample=0.7, colsample_bytree=0.8)\n",
    "\n",
    "# Fitting the classifier to the training data\n",
    "xgb_reg.fit(X_train, y_train)\n",
    "\n",
    "# Making predictions on the testing set\n",
    "y_pred = xgb_reg.predict(X_test)\n",
    "\n",
    "\n",
    "# Evaluating the model\n",
    "mae = mean_absolute_error(y_test, y_pred)\n",
    "mse = mean_squared_error(y_test, y_pred)\n",
    "rmse = np.sqrt(mse)\n",
    "r2 = r2_score(y_test, y_pred)\n",
    "\n",
    "# Displaying the evaluation metrics and the first few rows of the results DataFrame\n",
    "print('The Mean Average Error(MAE) is: ', mae)\n",
    "print('The Mean Square Error(MSE) is: ', mse)\n",
    "print('The Root Mean Square Error(RMSE) is: ', rmse)\n",
    "print('The R Square is: ', r2)"
   ]
  },
  {
   "cell_type": "markdown",
   "metadata": {},
   "source": [
    "## **Random Forest Regression**"
   ]
  },
  {
   "cell_type": "code",
   "execution_count": 56,
   "metadata": {},
   "outputs": [],
   "source": [
    "# Choose a random sample of 5000\n",
    "sample_5k = ford_df.sample(n=5000, random_state=42)\n",
    "\n",
    "# Splitting the dataset into training and testing sets\n",
    "X = sample_5k.drop(['Price', 'log_Price'], axis=1)\n",
    "y = sample_5k['log_Price']\n",
    "\n",
    "X_train, X_test, y_train, y_test = train_test_split(X, y, test_size=0.3, random_state=42)"
   ]
  },
  {
   "cell_type": "code",
   "execution_count": 57,
   "metadata": {},
   "outputs": [
    {
     "name": "stdout",
     "output_type": "stream",
     "text": [
      "Fitting 3 folds for each of 8 candidates, totalling 24 fits\n",
      "Best Parameters: {'criterion': 'squared_error', 'max_features': 'sqrt', 'n_estimators': 300}\n",
      "The Mean Average Error(MAE) is:  0.14923567971051743\n",
      "The Mean Square Error(MSE) is:  0.04713304572827165\n",
      "The Root Mean Square Error(RMSE) is:  0.21710146413203124\n",
      "The R Square is:  0.8573313473602888\n"
     ]
    }
   ],
   "source": [
    "# Initializing the Random Forest classifier\n",
    "params = {\n",
    "    'criterion': ['squared_error', 'absolute_error'],\n",
    "    'n_estimators': [100, 300],\n",
    "    'max_features': ['sqrt', 'log2'],\n",
    "}\n",
    "rf = RandomForestRegressor(random_state = 42)\n",
    "\n",
    "rf_reg = GridSearchCV(rf, param_grid=params, cv=3, verbose=True, n_jobs=-1)\n",
    "\n",
    "# Fit the GridSearchCV to the training data to find the best hyperparameters\n",
    "rf_reg.fit(X_train, y_train)\n",
    "\n",
    "# Making predictions on the testing set\n",
    "y_pred = rf_reg.predict(X_test)\n",
    "\n",
    "\n",
    "# Evaluating the model\n",
    "mae = mean_absolute_error(y_test, y_pred)\n",
    "mse = mean_squared_error(y_test, y_pred)\n",
    "rmse = np.sqrt(mse)\n",
    "r2 = r2_score(y_test, y_pred)\n",
    "\n",
    "# Displaying the evaluation metrics and the first few rows of the results DataFrame\n",
    "print('Best Parameters: ' + str(rf_reg.best_params_))\n",
    "print('The Mean Average Error(MAE) is: ', mae)\n",
    "print('The Mean Square Error(MSE) is: ', mse)\n",
    "print('The Root Mean Square Error(RMSE) is: ', rmse)\n",
    "print('The R Square is: ', r2)"
   ]
  }
 ],
 "metadata": {
  "kernelspec": {
   "display_name": "Python 3",
   "language": "python",
   "name": "python3"
  },
  "language_info": {
   "codemirror_mode": {
    "name": "ipython",
    "version": 3
   },
   "file_extension": ".py",
   "mimetype": "text/x-python",
   "name": "python",
   "nbconvert_exporter": "python",
   "pygments_lexer": "ipython3",
   "version": "3.11.5"
  }
 },
 "nbformat": 4,
 "nbformat_minor": 2
}
