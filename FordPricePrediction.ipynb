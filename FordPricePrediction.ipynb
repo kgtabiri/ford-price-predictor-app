{
 "cells": [
  {
   "cell_type": "markdown",
   "metadata": {},
   "source": [
    "## **Running the Model with Label Encoders and Exporting**"
   ]
  },
  {
   "cell_type": "code",
   "execution_count": 1,
   "metadata": {},
   "outputs": [],
   "source": [
    "import numpy as np \n",
    "from sklearn.preprocessing import LabelEncoder\n",
    "import pandas as pd \n",
    "import warnings\n",
    "warnings.filterwarnings(\"ignore\")"
   ]
  },
  {
   "cell_type": "code",
   "execution_count": 2,
   "metadata": {},
   "outputs": [
    {
     "data": {
      "text/html": [
       "<div>\n",
       "<style scoped>\n",
       "    .dataframe tbody tr th:only-of-type {\n",
       "        vertical-align: middle;\n",
       "    }\n",
       "\n",
       "    .dataframe tbody tr th {\n",
       "        vertical-align: top;\n",
       "    }\n",
       "\n",
       "    .dataframe thead th {\n",
       "        text-align: right;\n",
       "    }\n",
       "</style>\n",
       "<table border=\"1\" class=\"dataframe\">\n",
       "  <thead>\n",
       "    <tr style=\"text-align: right;\">\n",
       "      <th></th>\n",
       "      <th>Price</th>\n",
       "      <th>Year</th>\n",
       "      <th>Mileage</th>\n",
       "      <th>State</th>\n",
       "      <th>Country of Manufacture</th>\n",
       "      <th>Base Model</th>\n",
       "      <th>Features</th>\n",
       "      <th>Division</th>\n",
       "    </tr>\n",
       "  </thead>\n",
       "  <tbody>\n",
       "    <tr>\n",
       "      <th>0</th>\n",
       "      <td>10995</td>\n",
       "      <td>2014</td>\n",
       "      <td>20403</td>\n",
       "      <td>KS</td>\n",
       "      <td>US</td>\n",
       "      <td>Focus</td>\n",
       "      <td>Regular</td>\n",
       "      <td>West North Central</td>\n",
       "    </tr>\n",
       "    <tr>\n",
       "      <th>1</th>\n",
       "      <td>11997</td>\n",
       "      <td>2014</td>\n",
       "      <td>18520</td>\n",
       "      <td>WA</td>\n",
       "      <td>US</td>\n",
       "      <td>Focus</td>\n",
       "      <td>Regular</td>\n",
       "      <td>Pacific</td>\n",
       "    </tr>\n",
       "    <tr>\n",
       "      <th>2</th>\n",
       "      <td>11990</td>\n",
       "      <td>2014</td>\n",
       "      <td>17738</td>\n",
       "      <td>WA</td>\n",
       "      <td>US</td>\n",
       "      <td>Focus</td>\n",
       "      <td>Regular</td>\n",
       "      <td>Pacific</td>\n",
       "    </tr>\n",
       "    <tr>\n",
       "      <th>3</th>\n",
       "      <td>10889</td>\n",
       "      <td>2014</td>\n",
       "      <td>29057</td>\n",
       "      <td>WA</td>\n",
       "      <td>US</td>\n",
       "      <td>Focus</td>\n",
       "      <td>Regular</td>\n",
       "      <td>Pacific</td>\n",
       "    </tr>\n",
       "    <tr>\n",
       "      <th>4</th>\n",
       "      <td>11995</td>\n",
       "      <td>2014</td>\n",
       "      <td>20335</td>\n",
       "      <td>ID</td>\n",
       "      <td>US</td>\n",
       "      <td>Focus</td>\n",
       "      <td>Regular</td>\n",
       "      <td>Mountain</td>\n",
       "    </tr>\n",
       "  </tbody>\n",
       "</table>\n",
       "</div>"
      ],
      "text/plain": [
       "   Price  Year  Mileage State Country of Manufacture Base Model Features  \\\n",
       "0  10995  2014    20403    KS                     US      Focus  Regular   \n",
       "1  11997  2014    18520    WA                     US      Focus  Regular   \n",
       "2  11990  2014    17738    WA                     US      Focus  Regular   \n",
       "3  10889  2014    29057    WA                     US      Focus  Regular   \n",
       "4  11995  2014    20335    ID                     US      Focus  Regular   \n",
       "\n",
       "             Division  \n",
       "0  West North Central  \n",
       "1             Pacific  \n",
       "2             Pacific  \n",
       "3             Pacific  \n",
       "4            Mountain  "
      ]
     },
     "execution_count": 2,
     "metadata": {},
     "output_type": "execute_result"
    }
   ],
   "source": [
    "# import and view dataset\n",
    "df = pd.read_csv('used_cars3.csv')\n",
    "df = df.drop('Unnamed: 0', axis=1)\n",
    "df.head()"
   ]
  },
  {
   "cell_type": "code",
   "execution_count": 3,
   "metadata": {},
   "outputs": [
    {
     "data": {
      "text/plain": [
       "array([17, 16, 19, 15, 12, 18, 13, 14, 10,  9, 11,  7, 20,  8,  6,  5,  2,\n",
       "        4,  3,  1, 21,  0], dtype=int64)"
      ]
     },
     "execution_count": 3,
     "metadata": {},
     "output_type": "execute_result"
    }
   ],
   "source": [
    "le_year = LabelEncoder()\n",
    "df['Year'] = le_year.fit_transform(df['Year'])\n",
    "df['Year'].unique()"
   ]
  },
  {
   "cell_type": "code",
   "execution_count": 4,
   "metadata": {},
   "outputs": [
    {
     "data": {
      "text/plain": [
       "array([16, 47, 13,  3,  4, 10, 39, 43,  9, 48, 27, 26, 42, 37,  5, 31, 17,\n",
       "       34, 11, 44, 15, 20, 35, 45, 19, 36, 14, 22,  8,  6, 30, 23, 40, 24,\n",
       "       38, 21, 25, 32,  2, 12,  1, 28, 49, 29, 46, 33, 41, 18,  0, 50,  7])"
      ]
     },
     "execution_count": 4,
     "metadata": {},
     "output_type": "execute_result"
    }
   ],
   "source": [
    "le_state = LabelEncoder()\n",
    "df['State'] = le_state.fit_transform(df['State'])\n",
    "df['State'].unique()"
   ]
  },
  {
   "cell_type": "code",
   "execution_count": 5,
   "metadata": {},
   "outputs": [
    {
     "data": {
      "text/plain": [
       "array([1, 0])"
      ]
     },
     "execution_count": 5,
     "metadata": {},
     "output_type": "execute_result"
    }
   ],
   "source": [
    "le_manuf = LabelEncoder()\n",
    "df['Country of Manufacture'] = le_manuf.fit_transform(df['Country of Manufacture'])\n",
    "df['Country of Manufacture'].unique()"
   ]
  },
  {
   "cell_type": "code",
   "execution_count": 6,
   "metadata": {},
   "outputs": [
    {
     "data": {
      "text/plain": [
       "array([15, 18, 12,  0,  6, 19,  5, 11, 10, 22, 21,  4, 24, 14,  9, 20, 13,\n",
       "       17, 16,  3, 23,  8, 26, 25,  7,  2,  1])"
      ]
     },
     "execution_count": 6,
     "metadata": {},
     "output_type": "execute_result"
    }
   ],
   "source": [
    "le_model = LabelEncoder()\n",
    "df['Base Model'] = le_model.fit_transform(df['Base Model'])\n",
    "df['Base Model'].unique()"
   ]
  },
  {
   "cell_type": "code",
   "execution_count": 7,
   "metadata": {},
   "outputs": [
    {
     "data": {
      "text/plain": [
       "array([38, 40, 39, 46, 51, 27, 10, 16, 17,  5, 41, 14, 32, 55, 34, 52,  9,\n",
       "       48, 42, 23, 29, 18, 50, 28, 49, 30, 53, 22, 24, 47, 12,  6, 54, 43,\n",
       "       26, 45, 36, 13, 31,  4,  7, 20,  0, 11,  8,  2, 33, 44, 19, 35, 37,\n",
       "        3,  1, 25, 21, 15])"
      ]
     },
     "execution_count": 7,
     "metadata": {},
     "output_type": "execute_result"
    }
   ],
   "source": [
    "le_feats = LabelEncoder()\n",
    "df['Features'] = le_feats.fit_transform(df['Features'])\n",
    "df['Features'].unique()"
   ]
  },
  {
   "cell_type": "code",
   "execution_count": 8,
   "metadata": {},
   "outputs": [
    {
     "data": {
      "text/plain": [
       "array([7, 5, 3, 6, 4, 8, 0, 1, 2])"
      ]
     },
     "execution_count": 8,
     "metadata": {},
     "output_type": "execute_result"
    }
   ],
   "source": [
    "le_divs = LabelEncoder()\n",
    "df['Division'] = le_divs.fit_transform(df['Division'])\n",
    "df['Division'].unique()"
   ]
  },
  {
   "cell_type": "code",
   "execution_count": 9,
   "metadata": {},
   "outputs": [
    {
     "data": {
      "text/html": [
       "<div>\n",
       "<style scoped>\n",
       "    .dataframe tbody tr th:only-of-type {\n",
       "        vertical-align: middle;\n",
       "    }\n",
       "\n",
       "    .dataframe tbody tr th {\n",
       "        vertical-align: top;\n",
       "    }\n",
       "\n",
       "    .dataframe thead th {\n",
       "        text-align: right;\n",
       "    }\n",
       "</style>\n",
       "<table border=\"1\" class=\"dataframe\">\n",
       "  <thead>\n",
       "    <tr style=\"text-align: right;\">\n",
       "      <th></th>\n",
       "      <th>Price</th>\n",
       "      <th>Year</th>\n",
       "      <th>Mileage</th>\n",
       "      <th>State</th>\n",
       "      <th>Country of Manufacture</th>\n",
       "      <th>Base Model</th>\n",
       "      <th>Features</th>\n",
       "      <th>Division</th>\n",
       "    </tr>\n",
       "  </thead>\n",
       "  <tbody>\n",
       "    <tr>\n",
       "      <th>0</th>\n",
       "      <td>10995</td>\n",
       "      <td>17</td>\n",
       "      <td>20403</td>\n",
       "      <td>16</td>\n",
       "      <td>1</td>\n",
       "      <td>15</td>\n",
       "      <td>38</td>\n",
       "      <td>7</td>\n",
       "    </tr>\n",
       "    <tr>\n",
       "      <th>1</th>\n",
       "      <td>11997</td>\n",
       "      <td>17</td>\n",
       "      <td>18520</td>\n",
       "      <td>47</td>\n",
       "      <td>1</td>\n",
       "      <td>15</td>\n",
       "      <td>38</td>\n",
       "      <td>5</td>\n",
       "    </tr>\n",
       "    <tr>\n",
       "      <th>2</th>\n",
       "      <td>11990</td>\n",
       "      <td>17</td>\n",
       "      <td>17738</td>\n",
       "      <td>47</td>\n",
       "      <td>1</td>\n",
       "      <td>15</td>\n",
       "      <td>38</td>\n",
       "      <td>5</td>\n",
       "    </tr>\n",
       "    <tr>\n",
       "      <th>3</th>\n",
       "      <td>10889</td>\n",
       "      <td>17</td>\n",
       "      <td>29057</td>\n",
       "      <td>47</td>\n",
       "      <td>1</td>\n",
       "      <td>15</td>\n",
       "      <td>38</td>\n",
       "      <td>5</td>\n",
       "    </tr>\n",
       "    <tr>\n",
       "      <th>4</th>\n",
       "      <td>11995</td>\n",
       "      <td>17</td>\n",
       "      <td>20335</td>\n",
       "      <td>13</td>\n",
       "      <td>1</td>\n",
       "      <td>15</td>\n",
       "      <td>38</td>\n",
       "      <td>3</td>\n",
       "    </tr>\n",
       "  </tbody>\n",
       "</table>\n",
       "</div>"
      ],
      "text/plain": [
       "   Price  Year  Mileage  State  Country of Manufacture  Base Model  Features  \\\n",
       "0  10995    17    20403     16                       1          15        38   \n",
       "1  11997    17    18520     47                       1          15        38   \n",
       "2  11990    17    17738     47                       1          15        38   \n",
       "3  10889    17    29057     47                       1          15        38   \n",
       "4  11995    17    20335     13                       1          15        38   \n",
       "\n",
       "   Division  \n",
       "0         7  \n",
       "1         5  \n",
       "2         5  \n",
       "3         5  \n",
       "4         3  "
      ]
     },
     "execution_count": 9,
     "metadata": {},
     "output_type": "execute_result"
    }
   ],
   "source": [
    "df.head()"
   ]
  },
  {
   "cell_type": "code",
   "execution_count": 10,
   "metadata": {},
   "outputs": [],
   "source": [
    "# import required libraries\n",
    "from sklearn.metrics import mean_absolute_error, mean_squared_error, r2_score\n",
    "from sklearn.model_selection import train_test_split"
   ]
  },
  {
   "cell_type": "code",
   "execution_count": 11,
   "metadata": {},
   "outputs": [],
   "source": [
    "# Take logarithm of 'Price'\n",
    "df['log_Price'] = np.log(df['Price'])\n",
    "\n",
    "# Splitting the dataset into training and testing sets\n",
    "X = df.drop(['Price', 'log_Price'], axis=1)\n",
    "y = df['log_Price']\n",
    "\n",
    "X_train, X_test, y_train, y_test = train_test_split(X, y, test_size=0.3, random_state=42)"
   ]
  },
  {
   "cell_type": "code",
   "execution_count": 12,
   "metadata": {},
   "outputs": [
    {
     "name": "stdout",
     "output_type": "stream",
     "text": [
      "The Mean Average Error(MAE) is:  0.11916367917206468\n",
      "The Mean Square Error(MSE) is:  0.028914962045794784\n",
      "The Root Mean Square Error(RMSE) is:  0.17004400032284228\n",
      "The R Square is:  0.9043964982346274\n"
     ]
    }
   ],
   "source": [
    "from xgboost import XGBRegressor\n",
    "\n",
    "# Initializing the XGBoost classifier\n",
    "xgb_reg = XGBRegressor(objective ='reg:squarederror', \n",
    "                       n_estimators=1000, \n",
    "                       max_depth=7, eta=0.1, \n",
    "                       subsample=0.7, colsample_bytree=0.8)\n",
    "\n",
    "# Fitting the classifier to the training data\n",
    "xgb_reg.fit(X_train, y_train)\n",
    "\n",
    "# Making predictions on the testing set\n",
    "y_pred = xgb_reg.predict(X_test)\n",
    "\n",
    "\n",
    "# Evaluating the model\n",
    "mae = mean_absolute_error(y_test, y_pred)\n",
    "mse = mean_squared_error(y_test, y_pred)\n",
    "rmse = np.sqrt(mse)\n",
    "r2 = r2_score(y_test, y_pred)\n",
    "\n",
    "# Displaying the evaluation metrics and the first few rows of the results DataFrame\n",
    "print('The Mean Average Error(MAE) is: ', mae)\n",
    "print('The Mean Square Error(MSE) is: ', mse)\n",
    "print('The Root Mean Square Error(RMSE) is: ', rmse)\n",
    "print('The R Square is: ', r2)"
   ]
  },
  {
   "cell_type": "code",
   "execution_count": 13,
   "metadata": {},
   "outputs": [],
   "source": [
    "# Export trained model and label encoders\n",
    "import pickle\n",
    "\n",
    "mileage = df['Mileage']\n",
    "\n",
    "data = {\"model\": xgb_reg, \n",
    "        \"le_year\": le_year, \n",
    "        \"le_state\": le_state,\n",
    "        \"le_manuf\": le_manuf,\n",
    "        \"le_model\": le_model,\n",
    "        \"le_feats\": le_feats,\n",
    "        \"le_divs\": le_divs}\n",
    "\n",
    "with open('price_predictor.pkl', 'wb') as file:\n",
    "    pickle.dump(data, file)"
   ]
  }
 ],
 "metadata": {
  "kernelspec": {
   "display_name": "Python 3",
   "language": "python",
   "name": "python3"
  },
  "language_info": {
   "codemirror_mode": {
    "name": "ipython",
    "version": 3
   },
   "file_extension": ".py",
   "mimetype": "text/x-python",
   "name": "python",
   "nbconvert_exporter": "python",
   "pygments_lexer": "ipython3",
   "version": "3.11.9"
  }
 },
 "nbformat": 4,
 "nbformat_minor": 2
}
